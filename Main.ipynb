{
  "nbformat": 4,
  "nbformat_minor": 0,
  "metadata": {
    "colab": {
      "name": "loan89.3%.ipynb",
      "provenance": [],
      "collapsed_sections": [
        "cO5hboXcXDNZ",
        "HfCisH7vXSJV",
        "dYJM4H99XV63",
        "scp2UxFpgYyT",
        "UEjmMOz-kSNY",
        "XBs2jtTHifnx",
        "dwvs07vvjGa3",
        "Fp5C_w0Otxdp",
        "FQsffEKN1FuU",
        "B07m1GtV1OYa",
        "l6CSmQw71lDg",
        "cbx9hiWN1uQ5",
        "6YHSHT7T1_FF",
        "5i5aDcID2FgB",
        "ui3JwytA2Kku",
        "x1xaDhJT2Siy",
        "Y-2GDTNH294r",
        "RcR3WoQg3KGK",
        "eR8k7nw238Uz"
      ]
    },
    "kernelspec": {
      "name": "python3",
      "display_name": "Python 3"
    },
    "language_info": {
      "name": "python"
    },
    "accelerator": "GPU"
  },
  "cells": [
    {
      "cell_type": "markdown",
      "metadata": {
        "id": "gTRFXu1tDZlJ"
      },
      "source": [
        "https://towardsdatascience.com/predicting-the-survival-of-titanic-passengers-30870ccc7e8"
      ]
    },
    {
      "cell_type": "markdown",
      "metadata": {
        "id": "cO5hboXcXDNZ"
      },
      "source": [
        "# **Importing the Libraries**"
      ]
    },
    {
      "cell_type": "code",
      "metadata": {
        "id": "54wIyP_-W8Eh"
      },
      "source": [
        "# linear algebra\n",
        "import numpy as np \n",
        "\n",
        "# data processing\n",
        "import pandas as pd \n",
        "\n",
        "# data visualization\n",
        "import seaborn as sns\n",
        "%matplotlib inline\n",
        "from matplotlib import pyplot as plt\n",
        "from matplotlib import style\n",
        "\n",
        "# Algorithms\n",
        "from sklearn import linear_model\n",
        "from sklearn.linear_model import LogisticRegression\n",
        "from sklearn.ensemble import RandomForestClassifier\n",
        "from sklearn.linear_model import Perceptron\n",
        "from sklearn.linear_model import SGDClassifier\n",
        "from sklearn.tree import DecisionTreeClassifier\n",
        "from sklearn.neighbors import KNeighborsClassifier\n",
        "from sklearn.svm import SVC, LinearSVC\n",
        "from sklearn.naive_bayes import GaussianNB"
      ],
      "execution_count": null,
      "outputs": []
    },
    {
      "cell_type": "markdown",
      "metadata": {
        "id": "HfCisH7vXSJV"
      },
      "source": [
        "# **Getting the Data**"
      ]
    },
    {
      "cell_type": "code",
      "metadata": {
        "id": "V8XnaZl9XP1n"
      },
      "source": [
        "test_df  = pd.read_csv(\"test.csv\")\n",
        "train_df = pd.read_csv(\"train.csv\")\n",
        "\n",
        "test_sub_df = pd.read_csv(\"test_sub.csv\")"
      ],
      "execution_count": null,
      "outputs": []
    },
    {
      "cell_type": "markdown",
      "metadata": {
        "id": "dYJM4H99XV63"
      },
      "source": [
        "# **Data Exploration/Analysis**"
      ]
    },
    {
      "cell_type": "code",
      "metadata": {
        "colab": {
          "base_uri": "https://localhost:8080/"
        },
        "id": "HAnZzQdGXW_W",
        "outputId": "7e607b82-2a7e-4de9-93fe-69780970a717"
      },
      "source": [
        "train_df.info()"
      ],
      "execution_count": null,
      "outputs": [
        {
          "output_type": "stream",
          "text": [
            "<class 'pandas.core.frame.DataFrame'>\n",
            "RangeIndex: 2805 entries, 0 to 2804\n",
            "Data columns (total 10 columns):\n",
            " #   Column             Non-Null Count  Dtype \n",
            "---  ------             --------------  ----- \n",
            " 0   Gender             2805 non-null   object\n",
            " 1   Income             2805 non-null   int64 \n",
            " 2   Education          2802 non-null   object\n",
            " 3   Dependents         2805 non-null   int64 \n",
            " 4   Marital Status     2805 non-null   object\n",
            " 5   Employment Status  2805 non-null   object\n",
            " 6   Mortgage           2805 non-null   object\n",
            " 7   Resident           2804 non-null   object\n",
            " 8   Credit             2804 non-null   object\n",
            " 9   Risk Status        2805 non-null   int64 \n",
            "dtypes: int64(3), object(7)\n",
            "memory usage: 219.3+ KB\n"
          ],
          "name": "stdout"
        }
      ]
    },
    {
      "cell_type": "code",
      "metadata": {
        "colab": {
          "base_uri": "https://localhost:8080/"
        },
        "id": "i8ORv9aKXmzF",
        "outputId": "321b7284-1f53-4245-b48c-dd20fc98c4f1"
      },
      "source": [
        "train_df.describe()"
      ],
      "execution_count": null,
      "outputs": [
        {
          "output_type": "execute_result",
          "data": {
            "text/html": [
              "<div>\n",
              "<style scoped>\n",
              "    .dataframe tbody tr th:only-of-type {\n",
              "        vertical-align: middle;\n",
              "    }\n",
              "\n",
              "    .dataframe tbody tr th {\n",
              "        vertical-align: top;\n",
              "    }\n",
              "\n",
              "    .dataframe thead th {\n",
              "        text-align: right;\n",
              "    }\n",
              "</style>\n",
              "<table border=\"1\" class=\"dataframe\">\n",
              "  <thead>\n",
              "    <tr style=\"text-align: right;\">\n",
              "      <th></th>\n",
              "      <th>Income</th>\n",
              "      <th>Dependents</th>\n",
              "      <th>Risk Status</th>\n",
              "    </tr>\n",
              "  </thead>\n",
              "  <tbody>\n",
              "    <tr>\n",
              "      <th>count</th>\n",
              "      <td>2805.000000</td>\n",
              "      <td>2805.000000</td>\n",
              "      <td>2805.00000</td>\n",
              "    </tr>\n",
              "    <tr>\n",
              "      <th>mean</th>\n",
              "      <td>56679.145811</td>\n",
              "      <td>1.059893</td>\n",
              "      <td>2.85098</td>\n",
              "    </tr>\n",
              "    <tr>\n",
              "      <th>std</th>\n",
              "      <td>31457.184954</td>\n",
              "      <td>0.890579</td>\n",
              "      <td>0.75343</td>\n",
              "    </tr>\n",
              "    <tr>\n",
              "      <th>min</th>\n",
              "      <td>1.000000</td>\n",
              "      <td>0.000000</td>\n",
              "      <td>1.00000</td>\n",
              "    </tr>\n",
              "    <tr>\n",
              "      <th>25%</th>\n",
              "      <td>32000.000000</td>\n",
              "      <td>0.000000</td>\n",
              "      <td>2.00000</td>\n",
              "    </tr>\n",
              "    <tr>\n",
              "      <th>50%</th>\n",
              "      <td>50000.000000</td>\n",
              "      <td>1.000000</td>\n",
              "      <td>3.00000</td>\n",
              "    </tr>\n",
              "    <tr>\n",
              "      <th>75%</th>\n",
              "      <td>74000.000000</td>\n",
              "      <td>2.000000</td>\n",
              "      <td>3.00000</td>\n",
              "    </tr>\n",
              "    <tr>\n",
              "      <th>max</th>\n",
              "      <td>200000.000000</td>\n",
              "      <td>5.000000</td>\n",
              "      <td>5.00000</td>\n",
              "    </tr>\n",
              "  </tbody>\n",
              "</table>\n",
              "</div>"
            ],
            "text/plain": [
              "              Income   Dependents  Risk Status\n",
              "count    2805.000000  2805.000000   2805.00000\n",
              "mean    56679.145811     1.059893      2.85098\n",
              "std     31457.184954     0.890579      0.75343\n",
              "min         1.000000     0.000000      1.00000\n",
              "25%     32000.000000     0.000000      2.00000\n",
              "50%     50000.000000     1.000000      3.00000\n",
              "75%     74000.000000     2.000000      3.00000\n",
              "max    200000.000000     5.000000      5.00000"
            ]
          },
          "metadata": {
            "tags": []
          },
          "execution_count": 527
        }
      ]
    },
    {
      "cell_type": "code",
      "metadata": {
        "colab": {
          "base_uri": "https://localhost:8080/"
        },
        "id": "urUTgURMYp4L",
        "outputId": "ff3e6ed2-f60e-4e31-816e-443aadf343d5"
      },
      "source": [
        "train_df.head(8)"
      ],
      "execution_count": null,
      "outputs": [
        {
          "output_type": "execute_result",
          "data": {
            "text/html": [
              "<div>\n",
              "<style scoped>\n",
              "    .dataframe tbody tr th:only-of-type {\n",
              "        vertical-align: middle;\n",
              "    }\n",
              "\n",
              "    .dataframe tbody tr th {\n",
              "        vertical-align: top;\n",
              "    }\n",
              "\n",
              "    .dataframe thead th {\n",
              "        text-align: right;\n",
              "    }\n",
              "</style>\n",
              "<table border=\"1\" class=\"dataframe\">\n",
              "  <thead>\n",
              "    <tr style=\"text-align: right;\">\n",
              "      <th></th>\n",
              "      <th>Gender</th>\n",
              "      <th>Income</th>\n",
              "      <th>Education</th>\n",
              "      <th>Dependents</th>\n",
              "      <th>Marital Status</th>\n",
              "      <th>Employment Status</th>\n",
              "      <th>Mortgage</th>\n",
              "      <th>Resident</th>\n",
              "      <th>Credit</th>\n",
              "      <th>Risk Status</th>\n",
              "    </tr>\n",
              "  </thead>\n",
              "  <tbody>\n",
              "    <tr>\n",
              "      <th>0</th>\n",
              "      <td>Male</td>\n",
              "      <td>28000</td>\n",
              "      <td>Others</td>\n",
              "      <td>0</td>\n",
              "      <td>Divorced</td>\n",
              "      <td>Retired</td>\n",
              "      <td>Yes</td>\n",
              "      <td>Semi-urban</td>\n",
              "      <td>No</td>\n",
              "      <td>4</td>\n",
              "    </tr>\n",
              "    <tr>\n",
              "      <th>1</th>\n",
              "      <td>Female</td>\n",
              "      <td>42000</td>\n",
              "      <td>Bachelor</td>\n",
              "      <td>2</td>\n",
              "      <td>Separated</td>\n",
              "      <td>Self-employed</td>\n",
              "      <td>No</td>\n",
              "      <td>Urban</td>\n",
              "      <td>No</td>\n",
              "      <td>3</td>\n",
              "    </tr>\n",
              "    <tr>\n",
              "      <th>2</th>\n",
              "      <td>Male</td>\n",
              "      <td>52000</td>\n",
              "      <td>Bachelor</td>\n",
              "      <td>0</td>\n",
              "      <td>Divorced</td>\n",
              "      <td>Others</td>\n",
              "      <td>Yes</td>\n",
              "      <td>Urban</td>\n",
              "      <td>No</td>\n",
              "      <td>3</td>\n",
              "    </tr>\n",
              "    <tr>\n",
              "      <th>3</th>\n",
              "      <td>Male</td>\n",
              "      <td>64000</td>\n",
              "      <td>Master</td>\n",
              "      <td>1</td>\n",
              "      <td>Single</td>\n",
              "      <td>Others</td>\n",
              "      <td>Yes</td>\n",
              "      <td>Urban</td>\n",
              "      <td>No</td>\n",
              "      <td>3</td>\n",
              "    </tr>\n",
              "    <tr>\n",
              "      <th>4</th>\n",
              "      <td>Female</td>\n",
              "      <td>126000</td>\n",
              "      <td>Master</td>\n",
              "      <td>1</td>\n",
              "      <td>Divorced</td>\n",
              "      <td>Self-employed</td>\n",
              "      <td>No</td>\n",
              "      <td>Urban</td>\n",
              "      <td>Yes</td>\n",
              "      <td>2</td>\n",
              "    </tr>\n",
              "    <tr>\n",
              "      <th>5</th>\n",
              "      <td>Female</td>\n",
              "      <td>49000</td>\n",
              "      <td>Doctorate</td>\n",
              "      <td>2</td>\n",
              "      <td>Separated</td>\n",
              "      <td>Others</td>\n",
              "      <td>Yes</td>\n",
              "      <td>Urban</td>\n",
              "      <td>No</td>\n",
              "      <td>3</td>\n",
              "    </tr>\n",
              "    <tr>\n",
              "      <th>6</th>\n",
              "      <td>Male</td>\n",
              "      <td>93000</td>\n",
              "      <td>Master</td>\n",
              "      <td>1</td>\n",
              "      <td>Single</td>\n",
              "      <td>Others</td>\n",
              "      <td>Yes</td>\n",
              "      <td>Semi-urban</td>\n",
              "      <td>Yes</td>\n",
              "      <td>3</td>\n",
              "    </tr>\n",
              "    <tr>\n",
              "      <th>7</th>\n",
              "      <td>Female</td>\n",
              "      <td>112000</td>\n",
              "      <td>Bachelor</td>\n",
              "      <td>0</td>\n",
              "      <td>Divorced</td>\n",
              "      <td>Self-employed</td>\n",
              "      <td>Yes</td>\n",
              "      <td>Rural</td>\n",
              "      <td>Yes</td>\n",
              "      <td>2</td>\n",
              "    </tr>\n",
              "  </tbody>\n",
              "</table>\n",
              "</div>"
            ],
            "text/plain": [
              "   Gender  Income  Education  ...    Resident Credit Risk Status\n",
              "0    Male   28000     Others  ...  Semi-urban     No           4\n",
              "1  Female   42000   Bachelor  ...       Urban     No           3\n",
              "2    Male   52000   Bachelor  ...       Urban     No           3\n",
              "3    Male   64000     Master  ...       Urban     No           3\n",
              "4  Female  126000     Master  ...       Urban    Yes           2\n",
              "5  Female   49000  Doctorate  ...       Urban     No           3\n",
              "6    Male   93000     Master  ...  Semi-urban    Yes           3\n",
              "7  Female  112000   Bachelor  ...       Rural    Yes           2\n",
              "\n",
              "[8 rows x 10 columns]"
            ]
          },
          "metadata": {
            "tags": []
          },
          "execution_count": 528
        }
      ]
    },
    {
      "cell_type": "code",
      "metadata": {
        "colab": {
          "base_uri": "https://localhost:8080/"
        },
        "id": "1PoARw1FZMcO",
        "outputId": "6a01fb97-0089-456c-f70d-94272c275b26"
      },
      "source": [
        "total        = train_df.isnull().sum().sort_values(ascending=False)\n",
        "percent_1    = train_df.isnull().sum()/train_df.isnull().count()*100\n",
        "percent_2    = (round(percent_1, 1)).sort_values(ascending=False)\n",
        "missing_data = pd.concat([total, percent_2], axis=1, keys=['Total', '%'])\n",
        "missing_data.head(5)"
      ],
      "execution_count": null,
      "outputs": [
        {
          "output_type": "execute_result",
          "data": {
            "text/html": [
              "<div>\n",
              "<style scoped>\n",
              "    .dataframe tbody tr th:only-of-type {\n",
              "        vertical-align: middle;\n",
              "    }\n",
              "\n",
              "    .dataframe tbody tr th {\n",
              "        vertical-align: top;\n",
              "    }\n",
              "\n",
              "    .dataframe thead th {\n",
              "        text-align: right;\n",
              "    }\n",
              "</style>\n",
              "<table border=\"1\" class=\"dataframe\">\n",
              "  <thead>\n",
              "    <tr style=\"text-align: right;\">\n",
              "      <th></th>\n",
              "      <th>Total</th>\n",
              "      <th>%</th>\n",
              "    </tr>\n",
              "  </thead>\n",
              "  <tbody>\n",
              "    <tr>\n",
              "      <th>Education</th>\n",
              "      <td>3</td>\n",
              "      <td>0.1</td>\n",
              "    </tr>\n",
              "    <tr>\n",
              "      <th>Credit</th>\n",
              "      <td>1</td>\n",
              "      <td>0.0</td>\n",
              "    </tr>\n",
              "    <tr>\n",
              "      <th>Resident</th>\n",
              "      <td>1</td>\n",
              "      <td>0.0</td>\n",
              "    </tr>\n",
              "    <tr>\n",
              "      <th>Risk Status</th>\n",
              "      <td>0</td>\n",
              "      <td>0.0</td>\n",
              "    </tr>\n",
              "    <tr>\n",
              "      <th>Mortgage</th>\n",
              "      <td>0</td>\n",
              "      <td>0.0</td>\n",
              "    </tr>\n",
              "  </tbody>\n",
              "</table>\n",
              "</div>"
            ],
            "text/plain": [
              "             Total    %\n",
              "Education        3  0.1\n",
              "Credit           1  0.0\n",
              "Resident         1  0.0\n",
              "Risk Status      0  0.0\n",
              "Mortgage         0  0.0"
            ]
          },
          "metadata": {
            "tags": []
          },
          "execution_count": 529
        }
      ]
    },
    {
      "cell_type": "code",
      "metadata": {
        "colab": {
          "base_uri": "https://localhost:8080/"
        },
        "id": "mXkHytXeZR6s",
        "outputId": "045939e8-f661-4669-fcda-b9192239264b"
      },
      "source": [
        "train_df.columns.values"
      ],
      "execution_count": null,
      "outputs": [
        {
          "output_type": "execute_result",
          "data": {
            "text/plain": [
              "array(['Gender', 'Income', 'Education', 'Dependents', 'Marital Status',\n",
              "       'Employment Status', 'Mortgage', 'Resident', 'Credit',\n",
              "       'Risk Status'], dtype=object)"
            ]
          },
          "metadata": {
            "tags": []
          },
          "execution_count": 530
        }
      ]
    },
    {
      "cell_type": "code",
      "metadata": {
        "colab": {
          "base_uri": "https://localhost:8080/"
        },
        "id": "qy6CEGXhdoRI",
        "outputId": "803fa2fd-1a01-4be1-cdf0-0575670fb8f8"
      },
      "source": [
        "sns.barplot(x='Dependents', y='Risk Status', data=train_df)"
      ],
      "execution_count": null,
      "outputs": [
        {
          "output_type": "execute_result",
          "data": {
            "text/plain": [
              "<matplotlib.axes._subplots.AxesSubplot at 0x7f227a98f2d0>"
            ]
          },
          "metadata": {
            "tags": []
          },
          "execution_count": 531
        },
        {
          "output_type": "display_data",
          "data": {
            "image/png": "[encoded data removed]",
            "text/plain": [
              "<Figure size 432x288 with 1 Axes>"
            ]
          },
          "metadata": {
            "tags": [],
            "needs_background": "light"
          }
        }
      ]
    },
    {
      "cell_type": "code",
      "metadata": {
        "colab": {
          "base_uri": "https://localhost:8080/"
        },
        "id": "uTbOMiwfeHHe",
        "outputId": "033c25c5-d4f2-4b37-fe4e-79c71fad4a2e"
      },
      "source": [
        "grid = sns.FacetGrid(train_df, col='Risk Status', row='Education', size=2.2, aspect=1.6)\n",
        "grid.map(plt.hist, 'Income', alpha=.5, bins=20)\n",
        "grid.add_legend();"
      ],
      "execution_count": null,
      "outputs": [
        {
          "output_type": "stream",
          "text": [
            "/usr/local/lib/python3.7/dist-packages/seaborn/axisgrid.py:316: UserWarning: The `size` parameter has been renamed to `height`; please update your code.\n",
            "  warnings.warn(msg, UserWarning)\n"
          ],
          "name": "stderr"
        },
        {
          "output_type": "display_data",
          "data": {
            "image/png": "[encoded data removed]",
            "text/plain": [
              "<Figure size 1275.2x633.6 with 20 Axes>"
            ]
          },
          "metadata": {
            "tags": [],
            "needs_background": "light"
          }
        }
      ]
    },
    {
      "cell_type": "markdown",
      "metadata": {
        "id": "scp2UxFpgYyT"
      },
      "source": [
        "# **Data Preprocessing**"
      ]
    },
    {
      "cell_type": "code",
      "metadata": {
        "id": "NkjqmnPegZr6"
      },
      "source": [
        "train_df = train_df.drop(['Gender'], axis=1)\n",
        "train_df = train_df.drop(['Marital Status'], axis=1)\n",
        "train_df = train_df.drop(['Resident'], axis=1)"
      ],
      "execution_count": null,
      "outputs": []
    },
    {
      "cell_type": "code",
      "metadata": {
        "colab": {
          "base_uri": "https://localhost:8080/"
        },
        "id": "1-WEnMFlhJQZ",
        "outputId": "41423632-abde-4382-8072-e20ef5a85815"
      },
      "source": [
        "train_df['Education'].describe()"
      ],
      "execution_count": null,
      "outputs": [
        {
          "output_type": "execute_result",
          "data": {
            "text/plain": [
              "count         2802\n",
              "unique           4\n",
              "top       Bachelor\n",
              "freq          1170\n",
              "Name: Education, dtype: object"
            ]
          },
          "metadata": {
            "tags": []
          },
          "execution_count": 534
        }
      ]
    },
    {
      "cell_type": "code",
      "metadata": {
        "id": "tYK9GPLgvIWE"
      },
      "source": [
        "common_value = 'Bachelor'\n",
        "data = [train_df, test_df]\n",
        "\n",
        "for dataset in data:\n",
        "    dataset['Education'] = dataset['Education'].fillna(common_value)"
      ],
      "execution_count": null,
      "outputs": []
    },
    {
      "cell_type": "code",
      "metadata": {
        "id": "SqNwzFnSiDcl",
        "colab": {
          "base_uri": "https://localhost:8080/"
        },
        "outputId": "fa8252aa-a965-4ac8-8a1d-27000bbbadfd"
      },
      "source": [
        "train_df['Credit'].describe()"
      ],
      "execution_count": null,
      "outputs": [
        {
          "output_type": "execute_result",
          "data": {
            "text/plain": [
              "count     2804\n",
              "unique       2\n",
              "top        Yes\n",
              "freq      1745\n",
              "Name: Credit, dtype: object"
            ]
          },
          "metadata": {
            "tags": []
          },
          "execution_count": 536
        }
      ]
    },
    {
      "cell_type": "code",
      "metadata": {
        "id": "Kpx9FII0iHF8"
      },
      "source": [
        "common_value = 'Yes'\n",
        "data = [train_df, test_df]\n",
        "\n",
        "for dataset in data:\n",
        "    dataset['Credit'] = dataset['Credit'].fillna(common_value)"
      ],
      "execution_count": null,
      "outputs": []
    },
    {
      "cell_type": "markdown",
      "metadata": {
        "id": "UEjmMOz-kSNY"
      },
      "source": [
        "# **Qcut Income**"
      ]
    },
    {
      "cell_type": "code",
      "metadata": {
        "id": "qdOtE7ZAkVxB"
      },
      "source": [
        "#train_df['Income_cut'] = pd.qcut(train_df.Income, q=6)"
      ],
      "execution_count": null,
      "outputs": []
    },
    {
      "cell_type": "code",
      "metadata": {
        "id": "olZ6Kt8RldLy"
      },
      "source": [
        "#train_df['Income_cut'].value_counts().plot(kind='barh')\n",
        "#plt.show()\n",
        "#plt.legend"
      ],
      "execution_count": null,
      "outputs": []
    },
    {
      "cell_type": "code",
      "metadata": {
        "id": "8SeSp8Ltm5Qr"
      },
      "source": [
        "data = [train_df, test_df]\n",
        "\n",
        "for dataset in data:\n",
        "    dataset.loc[ dataset['Income'] <= 26000, 'Income'] = 0\n",
        "    dataset.loc[(dataset['Income'] > 26000) & (dataset['Income'] <= 38000), 'Income']  = 1\n",
        "    dataset.loc[(dataset['Income'] > 38000) & (dataset['Income'] <= 50000), 'Income']  = 2\n",
        "    dataset.loc[(dataset['Income'] > 50000) & (dataset['Income'] <= 65000), 'Income']  = 3\n",
        "    dataset.loc[(dataset['Income'] > 65000) & (dataset['Income'] <= 86000), 'Income']  = 4\n",
        "    dataset.loc[ dataset['Income'] > 86000, 'Income'] = 5\n",
        "    "
      ],
      "execution_count": null,
      "outputs": []
    },
    {
      "cell_type": "markdown",
      "metadata": {
        "id": "XBs2jtTHifnx"
      },
      "source": [
        "# **Convert to numeric number**"
      ]
    },
    {
      "cell_type": "code",
      "metadata": {
        "id": "00M8oh6qiioN"
      },
      "source": [
        "credit = {\"No\": 0, \"Yes\": 1}\n",
        "data = [train_df, test_df]\n",
        "\n",
        "for dataset in data:\n",
        "    dataset['Credit'] = dataset['Credit'].map(credit)"
      ],
      "execution_count": null,
      "outputs": []
    },
    {
      "cell_type": "code",
      "metadata": {
        "id": "cyFyYguYi1rK"
      },
      "source": [
        "mortgage = {\"No\": 0, \"Yes\": 1}\n",
        "data = [train_df, test_df]\n",
        "\n",
        "for dataset in data:\n",
        "    dataset['Mortgage'] = dataset['Mortgage'].map(mortgage)"
      ],
      "execution_count": null,
      "outputs": []
    },
    {
      "cell_type": "code",
      "metadata": {
        "id": "TFW_Cko0qDqK"
      },
      "source": [
        "education = {\"Doctorate\": 0, \"Master\": 1, \"Bachelor\": 2,\"Others\":3}\n",
        "data = [train_df, test_df]\n",
        "\n",
        "for dataset in data:\n",
        "    dataset['Education'] = dataset['Education'].map(education)\n",
        "    dataset['Education'] = dataset['Education'].astype(int)"
      ],
      "execution_count": null,
      "outputs": []
    },
    {
      "cell_type": "code",
      "metadata": {
        "id": "Bi_Uco2MscYf",
        "colab": {
          "base_uri": "https://localhost:8080/"
        },
        "outputId": "95c47c96-909f-4027-e879-c4c3aa9315e0"
      },
      "source": [
        "sns.barplot(x='Employment Status', y='Risk Status', data=train_df)"
      ],
      "execution_count": null,
      "outputs": [
        {
          "output_type": "execute_result",
          "data": {
            "text/plain": [
              "<matplotlib.axes._subplots.AxesSubplot at 0x7f22f03406d0>"
            ]
          },
          "metadata": {
            "tags": []
          },
          "execution_count": 544
        },
        {
          "output_type": "display_data",
          "data": {
            "image/png": "[encoded data removed]",
            "text/plain": [
              "<Figure size 432x288 with 1 Axes>"
            ]
          },
          "metadata": {
            "tags": [],
            "needs_background": "light"
          }
        }
      ]
    },
    {
      "cell_type": "code",
      "metadata": {
        "id": "8bYD7a_CsvhI"
      },
      "source": [
        "employment = {\"Employed\": 0, \"Self-employed\": 1, \"Part-time\": 2,\"Others\":3,\"Retired\":4,\"Unemployed\":5}\n",
        "data = [train_df, test_df]\n",
        "\n",
        "for dataset in data:\n",
        "    dataset['Employment Status'] = dataset['Employment Status'].map(employment)\n",
        "    dataset['Employment Status'] = dataset['Employment Status'].astype(int)"
      ],
      "execution_count": null,
      "outputs": []
    },
    {
      "cell_type": "code",
      "metadata": {
        "id": "nQ6y6YKuoSGy",
        "colab": {
          "base_uri": "https://localhost:8080/"
        },
        "outputId": "2df17d57-c17e-4ce9-fcbc-750961d105b2"
      },
      "source": [
        "train_df.info()"
      ],
      "execution_count": null,
      "outputs": [
        {
          "output_type": "stream",
          "text": [
            "<class 'pandas.core.frame.DataFrame'>\n",
            "RangeIndex: 2805 entries, 0 to 2804\n",
            "Data columns (total 7 columns):\n",
            " #   Column             Non-Null Count  Dtype\n",
            "---  ------             --------------  -----\n",
            " 0   Income             2805 non-null   int64\n",
            " 1   Education          2805 non-null   int64\n",
            " 2   Dependents         2805 non-null   int64\n",
            " 3   Employment Status  2805 non-null   int64\n",
            " 4   Mortgage           2805 non-null   int64\n",
            " 5   Credit             2805 non-null   int64\n",
            " 6   Risk Status        2805 non-null   int64\n",
            "dtypes: int64(7)\n",
            "memory usage: 153.5 KB\n"
          ],
          "name": "stdout"
        }
      ]
    },
    {
      "cell_type": "code",
      "metadata": {
        "id": "s8pJYgTHplHX",
        "colab": {
          "base_uri": "https://localhost:8080/"
        },
        "outputId": "b7bcfaed-f063-4d69-91ef-2c3bcf5c7553"
      },
      "source": [
        "train_df.head(10)"
      ],
      "execution_count": null,
      "outputs": [
        {
          "output_type": "execute_result",
          "data": {
            "text/html": [
              "<div>\n",
              "<style scoped>\n",
              "    .dataframe tbody tr th:only-of-type {\n",
              "        vertical-align: middle;\n",
              "    }\n",
              "\n",
              "    .dataframe tbody tr th {\n",
              "        vertical-align: top;\n",
              "    }\n",
              "\n",
              "    .dataframe thead th {\n",
              "        text-align: right;\n",
              "    }\n",
              "</style>\n",
              "<table border=\"1\" class=\"dataframe\">\n",
              "  <thead>\n",
              "    <tr style=\"text-align: right;\">\n",
              "      <th></th>\n",
              "      <th>Income</th>\n",
              "      <th>Education</th>\n",
              "      <th>Dependents</th>\n",
              "      <th>Employment Status</th>\n",
              "      <th>Mortgage</th>\n",
              "      <th>Credit</th>\n",
              "      <th>Risk Status</th>\n",
              "    </tr>\n",
              "  </thead>\n",
              "  <tbody>\n",
              "    <tr>\n",
              "      <th>0</th>\n",
              "      <td>1</td>\n",
              "      <td>3</td>\n",
              "      <td>0</td>\n",
              "      <td>4</td>\n",
              "      <td>1</td>\n",
              "      <td>0</td>\n",
              "      <td>4</td>\n",
              "    </tr>\n",
              "    <tr>\n",
              "      <th>1</th>\n",
              "      <td>2</td>\n",
              "      <td>2</td>\n",
              "      <td>2</td>\n",
              "      <td>1</td>\n",
              "      <td>0</td>\n",
              "      <td>0</td>\n",
              "      <td>3</td>\n",
              "    </tr>\n",
              "    <tr>\n",
              "      <th>2</th>\n",
              "      <td>3</td>\n",
              "      <td>2</td>\n",
              "      <td>0</td>\n",
              "      <td>3</td>\n",
              "      <td>1</td>\n",
              "      <td>0</td>\n",
              "      <td>3</td>\n",
              "    </tr>\n",
              "    <tr>\n",
              "      <th>3</th>\n",
              "      <td>3</td>\n",
              "      <td>1</td>\n",
              "      <td>1</td>\n",
              "      <td>3</td>\n",
              "      <td>1</td>\n",
              "      <td>0</td>\n",
              "      <td>3</td>\n",
              "    </tr>\n",
              "    <tr>\n",
              "      <th>4</th>\n",
              "      <td>5</td>\n",
              "      <td>1</td>\n",
              "      <td>1</td>\n",
              "      <td>1</td>\n",
              "      <td>0</td>\n",
              "      <td>1</td>\n",
              "      <td>2</td>\n",
              "    </tr>\n",
              "    <tr>\n",
              "      <th>5</th>\n",
              "      <td>2</td>\n",
              "      <td>0</td>\n",
              "      <td>2</td>\n",
              "      <td>3</td>\n",
              "      <td>1</td>\n",
              "      <td>0</td>\n",
              "      <td>3</td>\n",
              "    </tr>\n",
              "    <tr>\n",
              "      <th>6</th>\n",
              "      <td>5</td>\n",
              "      <td>1</td>\n",
              "      <td>1</td>\n",
              "      <td>3</td>\n",
              "      <td>1</td>\n",
              "      <td>1</td>\n",
              "      <td>3</td>\n",
              "    </tr>\n",
              "    <tr>\n",
              "      <th>7</th>\n",
              "      <td>5</td>\n",
              "      <td>2</td>\n",
              "      <td>0</td>\n",
              "      <td>1</td>\n",
              "      <td>1</td>\n",
              "      <td>1</td>\n",
              "      <td>2</td>\n",
              "    </tr>\n",
              "    <tr>\n",
              "      <th>8</th>\n",
              "      <td>3</td>\n",
              "      <td>2</td>\n",
              "      <td>0</td>\n",
              "      <td>0</td>\n",
              "      <td>1</td>\n",
              "      <td>0</td>\n",
              "      <td>2</td>\n",
              "    </tr>\n",
              "    <tr>\n",
              "      <th>9</th>\n",
              "      <td>2</td>\n",
              "      <td>3</td>\n",
              "      <td>0</td>\n",
              "      <td>3</td>\n",
              "      <td>1</td>\n",
              "      <td>1</td>\n",
              "      <td>4</td>\n",
              "    </tr>\n",
              "  </tbody>\n",
              "</table>\n",
              "</div>"
            ],
            "text/plain": [
              "   Income  Education  Dependents  ...  Mortgage  Credit  Risk Status\n",
              "0       1          3           0  ...         1       0            4\n",
              "1       2          2           2  ...         0       0            3\n",
              "2       3          2           0  ...         1       0            3\n",
              "3       3          1           1  ...         1       0            3\n",
              "4       5          1           1  ...         0       1            2\n",
              "5       2          0           2  ...         1       0            3\n",
              "6       5          1           1  ...         1       1            3\n",
              "7       5          2           0  ...         1       1            2\n",
              "8       3          2           0  ...         1       0            2\n",
              "9       2          3           0  ...         1       1            4\n",
              "\n",
              "[10 rows x 7 columns]"
            ]
          },
          "metadata": {
            "tags": []
          },
          "execution_count": 547
        }
      ]
    },
    {
      "cell_type": "markdown",
      "metadata": {
        "id": "dwvs07vvjGa3"
      },
      "source": [
        "# **Building Machine Learning Models**"
      ]
    },
    {
      "cell_type": "code",
      "metadata": {
        "id": "t0v0NBzNzyz2"
      },
      "source": [
        "X_train = train_df.drop(\"Risk Status\", axis=1)\n",
        "Y_train = train_df[\"Risk Status\"]"
      ],
      "execution_count": null,
      "outputs": []
    },
    {
      "cell_type": "code",
      "metadata": {
        "id": "DNp_hhAPvo1M"
      },
      "source": [
        "X_test = test_df.drop(['Gender','Marital Status','Resident'], axis=1)"
      ],
      "execution_count": null,
      "outputs": []
    },
    {
      "cell_type": "code",
      "metadata": {
        "id": "R41pky4Ox34K"
      },
      "source": [
        "test_labels  = X_test.pop('Risk Status')"
      ],
      "execution_count": null,
      "outputs": []
    },
    {
      "cell_type": "code",
      "metadata": {
        "id": "VKAJ0byFx9f5",
        "colab": {
          "base_uri": "https://localhost:8080/"
        },
        "outputId": "4c5ccef6-c53f-43b5-fef7-35fa6e26788f"
      },
      "source": [
        "test_labels"
      ],
      "execution_count": null,
      "outputs": [
        {
          "output_type": "execute_result",
          "data": {
            "text/plain": [
              "0     NaN\n",
              "1     NaN\n",
              "2     NaN\n",
              "3     NaN\n",
              "4     NaN\n",
              "       ..\n",
              "345   NaN\n",
              "346   NaN\n",
              "347   NaN\n",
              "348   NaN\n",
              "349   NaN\n",
              "Name: Risk Status, Length: 350, dtype: float64"
            ]
          },
          "metadata": {
            "tags": []
          },
          "execution_count": 551
        }
      ]
    },
    {
      "cell_type": "code",
      "metadata": {
        "id": "qvs8d3Yzzw60",
        "colab": {
          "base_uri": "https://localhost:8080/"
        },
        "outputId": "51f5ec1f-9143-40d4-c2c4-d0bb859376f9"
      },
      "source": [
        "X_train.head(10)"
      ],
      "execution_count": null,
      "outputs": [
        {
          "output_type": "execute_result",
          "data": {
            "text/html": [
              "<div>\n",
              "<style scoped>\n",
              "    .dataframe tbody tr th:only-of-type {\n",
              "        vertical-align: middle;\n",
              "    }\n",
              "\n",
              "    .dataframe tbody tr th {\n",
              "        vertical-align: top;\n",
              "    }\n",
              "\n",
              "    .dataframe thead th {\n",
              "        text-align: right;\n",
              "    }\n",
              "</style>\n",
              "<table border=\"1\" class=\"dataframe\">\n",
              "  <thead>\n",
              "    <tr style=\"text-align: right;\">\n",
              "      <th></th>\n",
              "      <th>Income</th>\n",
              "      <th>Education</th>\n",
              "      <th>Dependents</th>\n",
              "      <th>Employment Status</th>\n",
              "      <th>Mortgage</th>\n",
              "      <th>Credit</th>\n",
              "    </tr>\n",
              "  </thead>\n",
              "  <tbody>\n",
              "    <tr>\n",
              "      <th>0</th>\n",
              "      <td>1</td>\n",
              "      <td>3</td>\n",
              "      <td>0</td>\n",
              "      <td>4</td>\n",
              "      <td>1</td>\n",
              "      <td>0</td>\n",
              "    </tr>\n",
              "    <tr>\n",
              "      <th>1</th>\n",
              "      <td>2</td>\n",
              "      <td>2</td>\n",
              "      <td>2</td>\n",
              "      <td>1</td>\n",
              "      <td>0</td>\n",
              "      <td>0</td>\n",
              "    </tr>\n",
              "    <tr>\n",
              "      <th>2</th>\n",
              "      <td>3</td>\n",
              "      <td>2</td>\n",
              "      <td>0</td>\n",
              "      <td>3</td>\n",
              "      <td>1</td>\n",
              "      <td>0</td>\n",
              "    </tr>\n",
              "    <tr>\n",
              "      <th>3</th>\n",
              "      <td>3</td>\n",
              "      <td>1</td>\n",
              "      <td>1</td>\n",
              "      <td>3</td>\n",
              "      <td>1</td>\n",
              "      <td>0</td>\n",
              "    </tr>\n",
              "    <tr>\n",
              "      <th>4</th>\n",
              "      <td>5</td>\n",
              "      <td>1</td>\n",
              "      <td>1</td>\n",
              "      <td>1</td>\n",
              "      <td>0</td>\n",
              "      <td>1</td>\n",
              "    </tr>\n",
              "    <tr>\n",
              "      <th>5</th>\n",
              "      <td>2</td>\n",
              "      <td>0</td>\n",
              "      <td>2</td>\n",
              "      <td>3</td>\n",
              "      <td>1</td>\n",
              "      <td>0</td>\n",
              "    </tr>\n",
              "    <tr>\n",
              "      <th>6</th>\n",
              "      <td>5</td>\n",
              "      <td>1</td>\n",
              "      <td>1</td>\n",
              "      <td>3</td>\n",
              "      <td>1</td>\n",
              "      <td>1</td>\n",
              "    </tr>\n",
              "    <tr>\n",
              "      <th>7</th>\n",
              "      <td>5</td>\n",
              "      <td>2</td>\n",
              "      <td>0</td>\n",
              "      <td>1</td>\n",
              "      <td>1</td>\n",
              "      <td>1</td>\n",
              "    </tr>\n",
              "    <tr>\n",
              "      <th>8</th>\n",
              "      <td>3</td>\n",
              "      <td>2</td>\n",
              "      <td>0</td>\n",
              "      <td>0</td>\n",
              "      <td>1</td>\n",
              "      <td>0</td>\n",
              "    </tr>\n",
              "    <tr>\n",
              "      <th>9</th>\n",
              "      <td>2</td>\n",
              "      <td>3</td>\n",
              "      <td>0</td>\n",
              "      <td>3</td>\n",
              "      <td>1</td>\n",
              "      <td>1</td>\n",
              "    </tr>\n",
              "  </tbody>\n",
              "</table>\n",
              "</div>"
            ],
            "text/plain": [
              "   Income  Education  Dependents  Employment Status  Mortgage  Credit\n",
              "0       1          3           0                  4         1       0\n",
              "1       2          2           2                  1         0       0\n",
              "2       3          2           0                  3         1       0\n",
              "3       3          1           1                  3         1       0\n",
              "4       5          1           1                  1         0       1\n",
              "5       2          0           2                  3         1       0\n",
              "6       5          1           1                  3         1       1\n",
              "7       5          2           0                  1         1       1\n",
              "8       3          2           0                  0         1       0\n",
              "9       2          3           0                  3         1       1"
            ]
          },
          "metadata": {
            "tags": []
          },
          "execution_count": 552
        }
      ]
    },
    {
      "cell_type": "code",
      "metadata": {
        "id": "koYwMyf1xDmY",
        "colab": {
          "base_uri": "https://localhost:8080/"
        },
        "outputId": "1598835a-ef8a-4222-97cb-c7c7583ae603"
      },
      "source": [
        "X_test.head(10)"
      ],
      "execution_count": null,
      "outputs": [
        {
          "output_type": "execute_result",
          "data": {
            "text/html": [
              "<div>\n",
              "<style scoped>\n",
              "    .dataframe tbody tr th:only-of-type {\n",
              "        vertical-align: middle;\n",
              "    }\n",
              "\n",
              "    .dataframe tbody tr th {\n",
              "        vertical-align: top;\n",
              "    }\n",
              "\n",
              "    .dataframe thead th {\n",
              "        text-align: right;\n",
              "    }\n",
              "</style>\n",
              "<table border=\"1\" class=\"dataframe\">\n",
              "  <thead>\n",
              "    <tr style=\"text-align: right;\">\n",
              "      <th></th>\n",
              "      <th>Income</th>\n",
              "      <th>Education</th>\n",
              "      <th>Dependents</th>\n",
              "      <th>Employment Status</th>\n",
              "      <th>Mortgage</th>\n",
              "      <th>Credit</th>\n",
              "    </tr>\n",
              "  </thead>\n",
              "  <tbody>\n",
              "    <tr>\n",
              "      <th>0</th>\n",
              "      <td>3</td>\n",
              "      <td>2</td>\n",
              "      <td>1</td>\n",
              "      <td>3</td>\n",
              "      <td>1</td>\n",
              "      <td>0</td>\n",
              "    </tr>\n",
              "    <tr>\n",
              "      <th>1</th>\n",
              "      <td>2</td>\n",
              "      <td>1</td>\n",
              "      <td>2</td>\n",
              "      <td>0</td>\n",
              "      <td>1</td>\n",
              "      <td>1</td>\n",
              "    </tr>\n",
              "    <tr>\n",
              "      <th>2</th>\n",
              "      <td>0</td>\n",
              "      <td>3</td>\n",
              "      <td>2</td>\n",
              "      <td>2</td>\n",
              "      <td>1</td>\n",
              "      <td>0</td>\n",
              "    </tr>\n",
              "    <tr>\n",
              "      <th>3</th>\n",
              "      <td>1</td>\n",
              "      <td>3</td>\n",
              "      <td>1</td>\n",
              "      <td>3</td>\n",
              "      <td>1</td>\n",
              "      <td>0</td>\n",
              "    </tr>\n",
              "    <tr>\n",
              "      <th>4</th>\n",
              "      <td>5</td>\n",
              "      <td>0</td>\n",
              "      <td>1</td>\n",
              "      <td>0</td>\n",
              "      <td>0</td>\n",
              "      <td>1</td>\n",
              "    </tr>\n",
              "    <tr>\n",
              "      <th>5</th>\n",
              "      <td>3</td>\n",
              "      <td>0</td>\n",
              "      <td>1</td>\n",
              "      <td>0</td>\n",
              "      <td>1</td>\n",
              "      <td>0</td>\n",
              "    </tr>\n",
              "    <tr>\n",
              "      <th>6</th>\n",
              "      <td>0</td>\n",
              "      <td>2</td>\n",
              "      <td>0</td>\n",
              "      <td>1</td>\n",
              "      <td>1</td>\n",
              "      <td>1</td>\n",
              "    </tr>\n",
              "    <tr>\n",
              "      <th>7</th>\n",
              "      <td>1</td>\n",
              "      <td>2</td>\n",
              "      <td>1</td>\n",
              "      <td>4</td>\n",
              "      <td>0</td>\n",
              "      <td>1</td>\n",
              "    </tr>\n",
              "    <tr>\n",
              "      <th>8</th>\n",
              "      <td>1</td>\n",
              "      <td>2</td>\n",
              "      <td>1</td>\n",
              "      <td>3</td>\n",
              "      <td>1</td>\n",
              "      <td>1</td>\n",
              "    </tr>\n",
              "    <tr>\n",
              "      <th>9</th>\n",
              "      <td>1</td>\n",
              "      <td>3</td>\n",
              "      <td>1</td>\n",
              "      <td>5</td>\n",
              "      <td>0</td>\n",
              "      <td>0</td>\n",
              "    </tr>\n",
              "  </tbody>\n",
              "</table>\n",
              "</div>"
            ],
            "text/plain": [
              "   Income  Education  Dependents  Employment Status  Mortgage  Credit\n",
              "0       3          2           1                  3         1       0\n",
              "1       2          1           2                  0         1       1\n",
              "2       0          3           2                  2         1       0\n",
              "3       1          3           1                  3         1       0\n",
              "4       5          0           1                  0         0       1\n",
              "5       3          0           1                  0         1       0\n",
              "6       0          2           0                  1         1       1\n",
              "7       1          2           1                  4         0       1\n",
              "8       1          2           1                  3         1       1\n",
              "9       1          3           1                  5         0       0"
            ]
          },
          "metadata": {
            "tags": []
          },
          "execution_count": 553
        }
      ]
    },
    {
      "cell_type": "markdown",
      "metadata": {
        "id": "Fp5C_w0Otxdp"
      },
      "source": [
        "# **Stochastic Gradient Descent (SGD)**"
      ]
    },
    {
      "cell_type": "code",
      "metadata": {
        "id": "O-nlvDcItyc1"
      },
      "source": [
        "sgd = linear_model.SGDClassifier(max_iter=5, tol=None)\n",
        "sgd.fit(X_train, Y_train)\n",
        "Y_pred = sgd.predict(X_test)\n",
        "\n",
        "sgd.score(X_train, Y_train)\n",
        "\n",
        "acc_sgd = round(sgd.score(X_train, Y_train) * 100, 2)"
      ],
      "execution_count": null,
      "outputs": []
    },
    {
      "cell_type": "code",
      "metadata": {
        "id": "yvOsPSWj01U_",
        "colab": {
          "base_uri": "https://localhost:8080/"
        },
        "outputId": "5b0335d8-b8d2-4e35-fc60-5c0d9862d410"
      },
      "source": [
        "acc_sgd"
      ],
      "execution_count": null,
      "outputs": [
        {
          "output_type": "execute_result",
          "data": {
            "text/plain": [
              "65.7"
            ]
          },
          "metadata": {
            "tags": []
          },
          "execution_count": 555
        }
      ]
    },
    {
      "cell_type": "markdown",
      "metadata": {
        "id": "FQsffEKN1FuU"
      },
      "source": [
        "# **Random Forest**"
      ]
    },
    {
      "cell_type": "code",
      "metadata": {
        "id": "K-eRJ2nW1HeM"
      },
      "source": [
        "random_forest = RandomForestClassifier(n_estimators=100)\n",
        "random_forest.fit(X_train, Y_train)\n",
        "\n",
        "Y_prediction = random_forest.predict(X_test)\n",
        "\n",
        "random_forest.score(X_train, Y_train)\n",
        "acc_random_forest = round(random_forest.score(X_train, Y_train) * 100, 2)"
      ],
      "execution_count": null,
      "outputs": []
    },
    {
      "cell_type": "code",
      "metadata": {
        "id": "b4arHp2s1Ktw",
        "colab": {
          "base_uri": "https://localhost:8080/"
        },
        "outputId": "c905f1ea-9c0d-4284-8c91-f6088370d719"
      },
      "source": [
        "acc_random_forest"
      ],
      "execution_count": null,
      "outputs": [
        {
          "output_type": "execute_result",
          "data": {
            "text/plain": [
              "89.3"
            ]
          },
          "metadata": {
            "tags": []
          },
          "execution_count": 557
        }
      ]
    },
    {
      "cell_type": "code",
      "metadata": {
        "id": "_W8hbikl9OK6",
        "colab": {
          "base_uri": "https://localhost:8080/"
        },
        "outputId": "716929fb-c3f5-4fcd-dea9-ea80a22941f5"
      },
      "source": [
        "Y_prediction"
      ],
      "execution_count": null,
      "outputs": [
        {
          "output_type": "execute_result",
          "data": {
            "text/plain": [
              "array([3, 3, 4, 4, 2, 2, 3, 4, 4, 4, 4, 3, 3, 2, 4, 4, 3, 3, 4, 4, 3, 3,\n",
              "       2, 3, 2, 2, 2, 3, 3, 3, 4, 3, 4, 2, 2, 3, 3, 4, 3, 4, 4, 3, 2, 2,\n",
              "       3, 2, 3, 3, 3, 2, 2, 3, 3, 2, 3, 3, 3, 2, 3, 4, 4, 2, 3, 3, 2, 3,\n",
              "       1, 3, 3, 3, 2, 3, 3, 3, 3, 3, 2, 2, 3, 2, 4, 2, 2, 3, 2, 3, 3, 3,\n",
              "       2, 3, 2, 3, 3, 3, 4, 3, 3, 2, 2, 2, 4, 3, 2, 4, 4, 4, 3, 4, 3, 4,\n",
              "       3, 3, 4, 4, 3, 2, 2, 3, 2, 2, 4, 3, 3, 2, 4, 3, 4, 3, 3, 2, 4, 3,\n",
              "       2, 3, 2, 4, 3, 3, 3, 2, 3, 3, 3, 4, 3, 3, 3, 4, 3, 3, 3, 3, 3, 3,\n",
              "       3, 2, 2, 3, 3, 2, 3, 4, 3, 2, 2, 3, 2, 2, 4, 2, 2, 3, 4, 3, 3, 4,\n",
              "       3, 4, 2, 3, 4, 4, 3, 4, 3, 2, 2, 3, 3, 3, 4, 2, 2, 4, 3, 3, 4, 3,\n",
              "       2, 3, 3, 4, 4, 2, 3, 4, 3, 4, 2, 2, 4, 1, 3, 3, 3, 3, 2, 3, 3, 2,\n",
              "       3, 3, 3, 3, 3, 3, 3, 2, 4, 2, 4, 2, 3, 4, 2, 4, 4, 3, 4, 3, 4, 3,\n",
              "       2, 4, 4, 2, 2, 4, 2, 5, 3, 2, 2, 2, 3, 3, 2, 3, 3, 3, 4, 2, 3, 3,\n",
              "       2, 2, 2, 2, 2, 4, 3, 3, 2, 3, 2, 4, 2, 3, 3, 2, 2, 3, 3, 3, 2, 4,\n",
              "       2, 2, 2, 3, 3, 3, 3, 4, 4, 3, 3, 2, 3, 3, 4, 3, 3, 3, 3, 3, 2, 4,\n",
              "       2, 3, 4, 2, 3, 3, 3, 4, 2, 2, 2, 2, 2, 2, 3, 2, 3, 4, 2, 2, 3, 2,\n",
              "       3, 3, 1, 4, 2, 4, 3, 2, 2, 2, 1, 3, 3, 3, 4, 2, 2, 3, 4, 2])"
            ]
          },
          "metadata": {
            "tags": []
          },
          "execution_count": 558
        }
      ]
    },
    {
      "cell_type": "code",
      "metadata": {
        "id": "1d6rYMbAr7PP"
      },
      "source": [
        "risk_predict = Y_prediction"
      ],
      "execution_count": null,
      "outputs": []
    },
    {
      "cell_type": "code",
      "metadata": {
        "id": "12sioIdRs2od"
      },
      "source": [
        "test_df['Risk Predicted'] = risk_predict"
      ],
      "execution_count": null,
      "outputs": []
    },
    {
      "cell_type": "code",
      "metadata": {
        "id": "Dcu1j_Gts8vs",
        "colab": {
          "base_uri": "https://localhost:8080/"
        },
        "outputId": "1779aca6-9a90-4c40-fd26-259d3745d1b1"
      },
      "source": [
        "test_df.head(30)"
      ],
      "execution_count": null,
      "outputs": [
        {
          "output_type": "execute_result",
          "data": {
            "text/html": [
              "<div>\n",
              "<style scoped>\n",
              "    .dataframe tbody tr th:only-of-type {\n",
              "        vertical-align: middle;\n",
              "    }\n",
              "\n",
              "    .dataframe tbody tr th {\n",
              "        vertical-align: top;\n",
              "    }\n",
              "\n",
              "    .dataframe thead th {\n",
              "        text-align: right;\n",
              "    }\n",
              "</style>\n",
              "<table border=\"1\" class=\"dataframe\">\n",
              "  <thead>\n",
              "    <tr style=\"text-align: right;\">\n",
              "      <th></th>\n",
              "      <th>Gender</th>\n",
              "      <th>Income</th>\n",
              "      <th>Education</th>\n",
              "      <th>Dependents</th>\n",
              "      <th>Marital Status</th>\n",
              "      <th>Employment Status</th>\n",
              "      <th>Mortgage</th>\n",
              "      <th>Resident</th>\n",
              "      <th>Credit</th>\n",
              "      <th>Risk Status</th>\n",
              "      <th>Risk Predicted</th>\n",
              "    </tr>\n",
              "  </thead>\n",
              "  <tbody>\n",
              "    <tr>\n",
              "      <th>0</th>\n",
              "      <td>Male</td>\n",
              "      <td>3</td>\n",
              "      <td>2</td>\n",
              "      <td>1</td>\n",
              "      <td>Married</td>\n",
              "      <td>3</td>\n",
              "      <td>1</td>\n",
              "      <td>Semi-urban</td>\n",
              "      <td>0</td>\n",
              "      <td>NaN</td>\n",
              "      <td>3</td>\n",
              "    </tr>\n",
              "    <tr>\n",
              "      <th>1</th>\n",
              "      <td>Male</td>\n",
              "      <td>2</td>\n",
              "      <td>1</td>\n",
              "      <td>2</td>\n",
              "      <td>Widowed</td>\n",
              "      <td>0</td>\n",
              "      <td>1</td>\n",
              "      <td>Urban</td>\n",
              "      <td>1</td>\n",
              "      <td>NaN</td>\n",
              "      <td>3</td>\n",
              "    </tr>\n",
              "    <tr>\n",
              "      <th>2</th>\n",
              "      <td>Female</td>\n",
              "      <td>0</td>\n",
              "      <td>3</td>\n",
              "      <td>2</td>\n",
              "      <td>Married</td>\n",
              "      <td>2</td>\n",
              "      <td>1</td>\n",
              "      <td>Urban</td>\n",
              "      <td>0</td>\n",
              "      <td>NaN</td>\n",
              "      <td>4</td>\n",
              "    </tr>\n",
              "    <tr>\n",
              "      <th>3</th>\n",
              "      <td>Female</td>\n",
              "      <td>1</td>\n",
              "      <td>3</td>\n",
              "      <td>1</td>\n",
              "      <td>Separated</td>\n",
              "      <td>3</td>\n",
              "      <td>1</td>\n",
              "      <td>Urban</td>\n",
              "      <td>0</td>\n",
              "      <td>NaN</td>\n",
              "      <td>4</td>\n",
              "    </tr>\n",
              "    <tr>\n",
              "      <th>4</th>\n",
              "      <td>Male</td>\n",
              "      <td>5</td>\n",
              "      <td>0</td>\n",
              "      <td>1</td>\n",
              "      <td>Single</td>\n",
              "      <td>0</td>\n",
              "      <td>0</td>\n",
              "      <td>Semi-urban</td>\n",
              "      <td>1</td>\n",
              "      <td>NaN</td>\n",
              "      <td>2</td>\n",
              "    </tr>\n",
              "    <tr>\n",
              "      <th>5</th>\n",
              "      <td>Male</td>\n",
              "      <td>3</td>\n",
              "      <td>0</td>\n",
              "      <td>1</td>\n",
              "      <td>Widowed</td>\n",
              "      <td>0</td>\n",
              "      <td>1</td>\n",
              "      <td>Semi-urban</td>\n",
              "      <td>0</td>\n",
              "      <td>NaN</td>\n",
              "      <td>2</td>\n",
              "    </tr>\n",
              "    <tr>\n",
              "      <th>6</th>\n",
              "      <td>Female</td>\n",
              "      <td>0</td>\n",
              "      <td>2</td>\n",
              "      <td>0</td>\n",
              "      <td>Widowed</td>\n",
              "      <td>1</td>\n",
              "      <td>1</td>\n",
              "      <td>Rural</td>\n",
              "      <td>1</td>\n",
              "      <td>NaN</td>\n",
              "      <td>3</td>\n",
              "    </tr>\n",
              "    <tr>\n",
              "      <th>7</th>\n",
              "      <td>Male</td>\n",
              "      <td>1</td>\n",
              "      <td>2</td>\n",
              "      <td>1</td>\n",
              "      <td>Widowed</td>\n",
              "      <td>4</td>\n",
              "      <td>0</td>\n",
              "      <td>Urban</td>\n",
              "      <td>1</td>\n",
              "      <td>NaN</td>\n",
              "      <td>4</td>\n",
              "    </tr>\n",
              "    <tr>\n",
              "      <th>8</th>\n",
              "      <td>Male</td>\n",
              "      <td>1</td>\n",
              "      <td>2</td>\n",
              "      <td>1</td>\n",
              "      <td>Single</td>\n",
              "      <td>3</td>\n",
              "      <td>1</td>\n",
              "      <td>Semi-urban</td>\n",
              "      <td>1</td>\n",
              "      <td>NaN</td>\n",
              "      <td>4</td>\n",
              "    </tr>\n",
              "    <tr>\n",
              "      <th>9</th>\n",
              "      <td>Male</td>\n",
              "      <td>1</td>\n",
              "      <td>3</td>\n",
              "      <td>1</td>\n",
              "      <td>Separated</td>\n",
              "      <td>5</td>\n",
              "      <td>0</td>\n",
              "      <td>Urban</td>\n",
              "      <td>0</td>\n",
              "      <td>NaN</td>\n",
              "      <td>4</td>\n",
              "    </tr>\n",
              "    <tr>\n",
              "      <th>10</th>\n",
              "      <td>Female</td>\n",
              "      <td>1</td>\n",
              "      <td>2</td>\n",
              "      <td>2</td>\n",
              "      <td>Widowed</td>\n",
              "      <td>1</td>\n",
              "      <td>0</td>\n",
              "      <td>Urban</td>\n",
              "      <td>1</td>\n",
              "      <td>NaN</td>\n",
              "      <td>4</td>\n",
              "    </tr>\n",
              "    <tr>\n",
              "      <th>11</th>\n",
              "      <td>Female</td>\n",
              "      <td>0</td>\n",
              "      <td>3</td>\n",
              "      <td>1</td>\n",
              "      <td>Married</td>\n",
              "      <td>2</td>\n",
              "      <td>1</td>\n",
              "      <td>Rural</td>\n",
              "      <td>1</td>\n",
              "      <td>NaN</td>\n",
              "      <td>3</td>\n",
              "    </tr>\n",
              "    <tr>\n",
              "      <th>12</th>\n",
              "      <td>Female</td>\n",
              "      <td>1</td>\n",
              "      <td>2</td>\n",
              "      <td>0</td>\n",
              "      <td>Separated</td>\n",
              "      <td>1</td>\n",
              "      <td>0</td>\n",
              "      <td>Rural</td>\n",
              "      <td>0</td>\n",
              "      <td>NaN</td>\n",
              "      <td>3</td>\n",
              "    </tr>\n",
              "    <tr>\n",
              "      <th>13</th>\n",
              "      <td>Female</td>\n",
              "      <td>5</td>\n",
              "      <td>1</td>\n",
              "      <td>2</td>\n",
              "      <td>Widowed</td>\n",
              "      <td>1</td>\n",
              "      <td>1</td>\n",
              "      <td>Urban</td>\n",
              "      <td>1</td>\n",
              "      <td>NaN</td>\n",
              "      <td>2</td>\n",
              "    </tr>\n",
              "    <tr>\n",
              "      <th>14</th>\n",
              "      <td>Male</td>\n",
              "      <td>0</td>\n",
              "      <td>1</td>\n",
              "      <td>1</td>\n",
              "      <td>Widowed</td>\n",
              "      <td>3</td>\n",
              "      <td>0</td>\n",
              "      <td>Semi-urban</td>\n",
              "      <td>1</td>\n",
              "      <td>NaN</td>\n",
              "      <td>4</td>\n",
              "    </tr>\n",
              "    <tr>\n",
              "      <th>15</th>\n",
              "      <td>Female</td>\n",
              "      <td>0</td>\n",
              "      <td>3</td>\n",
              "      <td>1</td>\n",
              "      <td>Widowed</td>\n",
              "      <td>3</td>\n",
              "      <td>1</td>\n",
              "      <td>Rural</td>\n",
              "      <td>0</td>\n",
              "      <td>NaN</td>\n",
              "      <td>4</td>\n",
              "    </tr>\n",
              "    <tr>\n",
              "      <th>16</th>\n",
              "      <td>Male</td>\n",
              "      <td>1</td>\n",
              "      <td>0</td>\n",
              "      <td>2</td>\n",
              "      <td>Separated</td>\n",
              "      <td>4</td>\n",
              "      <td>0</td>\n",
              "      <td>Urban</td>\n",
              "      <td>1</td>\n",
              "      <td>NaN</td>\n",
              "      <td>3</td>\n",
              "    </tr>\n",
              "    <tr>\n",
              "      <th>17</th>\n",
              "      <td>Female</td>\n",
              "      <td>1</td>\n",
              "      <td>1</td>\n",
              "      <td>2</td>\n",
              "      <td>Divorced</td>\n",
              "      <td>2</td>\n",
              "      <td>1</td>\n",
              "      <td>Urban</td>\n",
              "      <td>1</td>\n",
              "      <td>NaN</td>\n",
              "      <td>3</td>\n",
              "    </tr>\n",
              "    <tr>\n",
              "      <th>18</th>\n",
              "      <td>Female</td>\n",
              "      <td>0</td>\n",
              "      <td>3</td>\n",
              "      <td>2</td>\n",
              "      <td>Single</td>\n",
              "      <td>2</td>\n",
              "      <td>1</td>\n",
              "      <td>Rural</td>\n",
              "      <td>0</td>\n",
              "      <td>NaN</td>\n",
              "      <td>4</td>\n",
              "    </tr>\n",
              "    <tr>\n",
              "      <th>19</th>\n",
              "      <td>Female</td>\n",
              "      <td>1</td>\n",
              "      <td>2</td>\n",
              "      <td>1</td>\n",
              "      <td>Single</td>\n",
              "      <td>2</td>\n",
              "      <td>0</td>\n",
              "      <td>Semi-urban</td>\n",
              "      <td>1</td>\n",
              "      <td>NaN</td>\n",
              "      <td>4</td>\n",
              "    </tr>\n",
              "    <tr>\n",
              "      <th>20</th>\n",
              "      <td>Male</td>\n",
              "      <td>1</td>\n",
              "      <td>1</td>\n",
              "      <td>3</td>\n",
              "      <td>Married</td>\n",
              "      <td>1</td>\n",
              "      <td>1</td>\n",
              "      <td>Rural</td>\n",
              "      <td>0</td>\n",
              "      <td>NaN</td>\n",
              "      <td>3</td>\n",
              "    </tr>\n",
              "    <tr>\n",
              "      <th>21</th>\n",
              "      <td>Male</td>\n",
              "      <td>2</td>\n",
              "      <td>1</td>\n",
              "      <td>0</td>\n",
              "      <td>Married</td>\n",
              "      <td>3</td>\n",
              "      <td>1</td>\n",
              "      <td>Urban</td>\n",
              "      <td>0</td>\n",
              "      <td>NaN</td>\n",
              "      <td>3</td>\n",
              "    </tr>\n",
              "    <tr>\n",
              "      <th>22</th>\n",
              "      <td>Female</td>\n",
              "      <td>3</td>\n",
              "      <td>1</td>\n",
              "      <td>1</td>\n",
              "      <td>Widowed</td>\n",
              "      <td>1</td>\n",
              "      <td>1</td>\n",
              "      <td>Semi-urban</td>\n",
              "      <td>0</td>\n",
              "      <td>NaN</td>\n",
              "      <td>2</td>\n",
              "    </tr>\n",
              "    <tr>\n",
              "      <th>23</th>\n",
              "      <td>Male</td>\n",
              "      <td>0</td>\n",
              "      <td>1</td>\n",
              "      <td>1</td>\n",
              "      <td>Married</td>\n",
              "      <td>1</td>\n",
              "      <td>1</td>\n",
              "      <td>Urban</td>\n",
              "      <td>1</td>\n",
              "      <td>NaN</td>\n",
              "      <td>3</td>\n",
              "    </tr>\n",
              "    <tr>\n",
              "      <th>24</th>\n",
              "      <td>Female</td>\n",
              "      <td>2</td>\n",
              "      <td>1</td>\n",
              "      <td>1</td>\n",
              "      <td>Divorced</td>\n",
              "      <td>1</td>\n",
              "      <td>1</td>\n",
              "      <td>Urban</td>\n",
              "      <td>0</td>\n",
              "      <td>NaN</td>\n",
              "      <td>2</td>\n",
              "    </tr>\n",
              "    <tr>\n",
              "      <th>25</th>\n",
              "      <td>Female</td>\n",
              "      <td>5</td>\n",
              "      <td>1</td>\n",
              "      <td>3</td>\n",
              "      <td>Single</td>\n",
              "      <td>0</td>\n",
              "      <td>1</td>\n",
              "      <td>Rural</td>\n",
              "      <td>1</td>\n",
              "      <td>NaN</td>\n",
              "      <td>2</td>\n",
              "    </tr>\n",
              "    <tr>\n",
              "      <th>26</th>\n",
              "      <td>Male</td>\n",
              "      <td>4</td>\n",
              "      <td>1</td>\n",
              "      <td>1</td>\n",
              "      <td>Divorced</td>\n",
              "      <td>3</td>\n",
              "      <td>1</td>\n",
              "      <td>Urban</td>\n",
              "      <td>1</td>\n",
              "      <td>NaN</td>\n",
              "      <td>2</td>\n",
              "    </tr>\n",
              "    <tr>\n",
              "      <th>27</th>\n",
              "      <td>Female</td>\n",
              "      <td>4</td>\n",
              "      <td>1</td>\n",
              "      <td>0</td>\n",
              "      <td>Single</td>\n",
              "      <td>3</td>\n",
              "      <td>0</td>\n",
              "      <td>Urban</td>\n",
              "      <td>1</td>\n",
              "      <td>NaN</td>\n",
              "      <td>3</td>\n",
              "    </tr>\n",
              "    <tr>\n",
              "      <th>28</th>\n",
              "      <td>Female</td>\n",
              "      <td>2</td>\n",
              "      <td>2</td>\n",
              "      <td>1</td>\n",
              "      <td>Married</td>\n",
              "      <td>2</td>\n",
              "      <td>1</td>\n",
              "      <td>Rural</td>\n",
              "      <td>0</td>\n",
              "      <td>NaN</td>\n",
              "      <td>3</td>\n",
              "    </tr>\n",
              "    <tr>\n",
              "      <th>29</th>\n",
              "      <td>Male</td>\n",
              "      <td>0</td>\n",
              "      <td>2</td>\n",
              "      <td>0</td>\n",
              "      <td>Divorced</td>\n",
              "      <td>1</td>\n",
              "      <td>1</td>\n",
              "      <td>Rural</td>\n",
              "      <td>0</td>\n",
              "      <td>NaN</td>\n",
              "      <td>3</td>\n",
              "    </tr>\n",
              "  </tbody>\n",
              "</table>\n",
              "</div>"
            ],
            "text/plain": [
              "    Gender  Income  Education  ...  Credit Risk Status  Risk Predicted\n",
              "0     Male       3          2  ...       0         NaN               3\n",
              "1     Male       2          1  ...       1         NaN               3\n",
              "2   Female       0          3  ...       0         NaN               4\n",
              "3   Female       1          3  ...       0         NaN               4\n",
              "4     Male       5          0  ...       1         NaN               2\n",
              "5     Male       3          0  ...       0         NaN               2\n",
              "6   Female       0          2  ...       1         NaN               3\n",
              "7     Male       1          2  ...       1         NaN               4\n",
              "8     Male       1          2  ...       1         NaN               4\n",
              "9     Male       1          3  ...       0         NaN               4\n",
              "10  Female       1          2  ...       1         NaN               4\n",
              "11  Female       0          3  ...       1         NaN               3\n",
              "12  Female       1          2  ...       0         NaN               3\n",
              "13  Female       5          1  ...       1         NaN               2\n",
              "14    Male       0          1  ...       1         NaN               4\n",
              "15  Female       0          3  ...       0         NaN               4\n",
              "16    Male       1          0  ...       1         NaN               3\n",
              "17  Female       1          1  ...       1         NaN               3\n",
              "18  Female       0          3  ...       0         NaN               4\n",
              "19  Female       1          2  ...       1         NaN               4\n",
              "20    Male       1          1  ...       0         NaN               3\n",
              "21    Male       2          1  ...       0         NaN               3\n",
              "22  Female       3          1  ...       0         NaN               2\n",
              "23    Male       0          1  ...       1         NaN               3\n",
              "24  Female       2          1  ...       0         NaN               2\n",
              "25  Female       5          1  ...       1         NaN               2\n",
              "26    Male       4          1  ...       1         NaN               2\n",
              "27  Female       4          1  ...       1         NaN               3\n",
              "28  Female       2          2  ...       0         NaN               3\n",
              "29    Male       0          2  ...       0         NaN               3\n",
              "\n",
              "[30 rows x 11 columns]"
            ]
          },
          "metadata": {
            "tags": []
          },
          "execution_count": 561
        }
      ]
    },
    {
      "cell_type": "markdown",
      "metadata": {
        "id": "B07m1GtV1OYa"
      },
      "source": [
        "# **Logistic Regression**"
      ]
    },
    {
      "cell_type": "code",
      "metadata": {
        "id": "BgRUT5Co1PZ2",
        "colab": {
          "base_uri": "https://localhost:8080/"
        },
        "outputId": "4cac9240-70ba-46d2-ec8c-6f4103d5dbda"
      },
      "source": [
        "logreg = LogisticRegression()\n",
        "logreg.fit(X_train, Y_train)\n",
        "\n",
        "Y_pred = logreg.predict(X_test)\n",
        "\n",
        "acc_log = round(logreg.score(X_train, Y_train) * 100, 2)"
      ],
      "execution_count": null,
      "outputs": [
        {
          "output_type": "stream",
          "text": [
            "/usr/local/lib/python3.7/dist-packages/sklearn/linear_model/_logistic.py:940: ConvergenceWarning: lbfgs failed to converge (status=1):\n",
            "STOP: TOTAL NO. of ITERATIONS REACHED LIMIT.\n",
            "\n",
            "Increase the number of iterations (max_iter) or scale the data as shown in:\n",
            "    https://scikit-learn.org/stable/modules/preprocessing.html\n",
            "Please also refer to the documentation for alternative solver options:\n",
            "    https://scikit-learn.org/stable/modules/linear_model.html#logistic-regression\n",
            "  extra_warning_msg=_LOGISTIC_SOLVER_CONVERGENCE_MSG)\n"
          ],
          "name": "stderr"
        }
      ]
    },
    {
      "cell_type": "code",
      "metadata": {
        "id": "avVXGa8O1R46",
        "colab": {
          "base_uri": "https://localhost:8080/"
        },
        "outputId": "6a9a9db8-32fb-42ee-ca0e-71f0fc87d3b5"
      },
      "source": [
        "acc_log"
      ],
      "execution_count": null,
      "outputs": [
        {
          "output_type": "execute_result",
          "data": {
            "text/plain": [
              "81.57"
            ]
          },
          "metadata": {
            "tags": []
          },
          "execution_count": 563
        }
      ]
    },
    {
      "cell_type": "markdown",
      "metadata": {
        "id": "l6CSmQw71lDg"
      },
      "source": [
        "# **K Nearest Neighbor**"
      ]
    },
    {
      "cell_type": "code",
      "metadata": {
        "id": "gaFWQCgK1lb6"
      },
      "source": [
        "# KNN \n",
        "knn = KNeighborsClassifier(n_neighbors = 3) \n",
        "knn.fit(X_train, Y_train)  \n",
        "Y_pred = knn.predict(X_test) \n",
        "acc_knn = round(knn.score(X_train, Y_train) * 100, 2)"
      ],
      "execution_count": null,
      "outputs": []
    },
    {
      "cell_type": "code",
      "metadata": {
        "id": "SSH4KU3K1rHv",
        "colab": {
          "base_uri": "https://localhost:8080/"
        },
        "outputId": "a2d8e9fe-13fd-45bc-b1d2-669bf51d286c"
      },
      "source": [
        "acc_knn"
      ],
      "execution_count": null,
      "outputs": [
        {
          "output_type": "execute_result",
          "data": {
            "text/plain": [
              "85.31"
            ]
          },
          "metadata": {
            "tags": []
          },
          "execution_count": 565
        }
      ]
    },
    {
      "cell_type": "markdown",
      "metadata": {
        "id": "cbx9hiWN1uQ5"
      },
      "source": [
        "# **Gaussian Naive Bayes**"
      ]
    },
    {
      "cell_type": "code",
      "metadata": {
        "id": "zZalqOup1vUB"
      },
      "source": [
        "gaussian = GaussianNB() \n",
        "gaussian.fit(X_train, Y_train) \n",
        "Y_pred = gaussian.predict(X_test) \n",
        "acc_gaussian = round(gaussian.score(X_train, Y_train) * 100, 2)"
      ],
      "execution_count": null,
      "outputs": []
    },
    {
      "cell_type": "code",
      "metadata": {
        "id": "VQwT8-xL15f3",
        "colab": {
          "base_uri": "https://localhost:8080/"
        },
        "outputId": "43acc89d-f6f9-47c4-970f-52bfe1ed1c0a"
      },
      "source": [
        "acc_gaussian"
      ],
      "execution_count": null,
      "outputs": [
        {
          "output_type": "execute_result",
          "data": {
            "text/plain": [
              "66.67"
            ]
          },
          "metadata": {
            "tags": []
          },
          "execution_count": 567
        }
      ]
    },
    {
      "cell_type": "markdown",
      "metadata": {
        "id": "6YHSHT7T1_FF"
      },
      "source": [
        "# **Perceptron**"
      ]
    },
    {
      "cell_type": "code",
      "metadata": {
        "id": "mcqssK4p1-la",
        "colab": {
          "base_uri": "https://localhost:8080/"
        },
        "outputId": "e5d40fad-99d1-4bc8-ae70-4413097c4977"
      },
      "source": [
        "perceptron = Perceptron(max_iter=5)\n",
        "perceptron.fit(X_train, Y_train)\n",
        "\n",
        "Y_pred = perceptron.predict(X_test)\n",
        "\n",
        "acc_perceptron = round(perceptron.score(X_train, Y_train) * 100, 2)"
      ],
      "execution_count": null,
      "outputs": [
        {
          "output_type": "stream",
          "text": [
            "/usr/local/lib/python3.7/dist-packages/sklearn/linear_model/_stochastic_gradient.py:557: ConvergenceWarning: Maximum number of iteration reached before convergence. Consider increasing max_iter to improve the fit.\n",
            "  ConvergenceWarning)\n"
          ],
          "name": "stderr"
        }
      ]
    },
    {
      "cell_type": "code",
      "metadata": {
        "id": "IkAO8zMc2CD1",
        "colab": {
          "base_uri": "https://localhost:8080/"
        },
        "outputId": "4574170f-8846-4dd6-82dc-0fe8700d0064"
      },
      "source": [
        "acc_perceptron"
      ],
      "execution_count": null,
      "outputs": [
        {
          "output_type": "execute_result",
          "data": {
            "text/plain": [
              "64.06"
            ]
          },
          "metadata": {
            "tags": []
          },
          "execution_count": 569
        }
      ]
    },
    {
      "cell_type": "markdown",
      "metadata": {
        "id": "5i5aDcID2FgB"
      },
      "source": [
        "# **Linear Support Vector Machine**"
      ]
    },
    {
      "cell_type": "code",
      "metadata": {
        "id": "d75Hqe9_2GZH",
        "colab": {
          "base_uri": "https://localhost:8080/"
        },
        "outputId": "e5337e69-ee01-4fce-ca06-966d1516b970"
      },
      "source": [
        "linear_svc = LinearSVC()\n",
        "linear_svc.fit(X_train, Y_train)\n",
        "\n",
        "Y_pred = linear_svc.predict(X_test)\n",
        "\n",
        "acc_linear_svc = round(linear_svc.score(X_train, Y_train) * 100, 2)"
      ],
      "execution_count": null,
      "outputs": [
        {
          "output_type": "stream",
          "text": [
            "/usr/local/lib/python3.7/dist-packages/sklearn/svm/_base.py:947: ConvergenceWarning: Liblinear failed to converge, increase the number of iterations.\n",
            "  \"the number of iterations.\", ConvergenceWarning)\n"
          ],
          "name": "stderr"
        }
      ]
    },
    {
      "cell_type": "code",
      "metadata": {
        "id": "EDzLBrUV2IVH",
        "colab": {
          "base_uri": "https://localhost:8080/"
        },
        "outputId": "049c4a95-98be-4b78-f8ab-53e2fed62765"
      },
      "source": [
        "acc_linear_svc"
      ],
      "execution_count": null,
      "outputs": [
        {
          "output_type": "execute_result",
          "data": {
            "text/plain": [
              "80.21"
            ]
          },
          "metadata": {
            "tags": []
          },
          "execution_count": 571
        }
      ]
    },
    {
      "cell_type": "markdown",
      "metadata": {
        "id": "ui3JwytA2Kku"
      },
      "source": [
        "# **Decision Tree**"
      ]
    },
    {
      "cell_type": "code",
      "metadata": {
        "id": "i2MkP1nW2LQ0"
      },
      "source": [
        "decision_tree = DecisionTreeClassifier() \n",
        "decision_tree.fit(X_train, Y_train)  \n",
        "Y_pred = decision_tree.predict(X_test) \n",
        "acc_decision_tree = round(decision_tree.score(X_train, Y_train) * 100, 2)"
      ],
      "execution_count": null,
      "outputs": []
    },
    {
      "cell_type": "code",
      "metadata": {
        "id": "p4-42x852On5",
        "colab": {
          "base_uri": "https://localhost:8080/"
        },
        "outputId": "50391c50-6ac6-48d1-a094-021e4a030259"
      },
      "source": [
        "acc_decision_tree"
      ],
      "execution_count": null,
      "outputs": [
        {
          "output_type": "execute_result",
          "data": {
            "text/plain": [
              "89.3"
            ]
          },
          "metadata": {
            "tags": []
          },
          "execution_count": 573
        }
      ]
    },
    {
      "cell_type": "markdown",
      "metadata": {
        "id": "ROR-FaMk0jEn"
      },
      "source": [
        "# **Modelling**"
      ]
    },
    {
      "cell_type": "code",
      "metadata": {
        "id": "vXy5QW-v1wpT"
      },
      "source": [
        "import tensorflow as tf\n",
        "from tensorflow.keras.layers.experimental.preprocessing import Normalization\n",
        "\n",
        "from tensorflow import keras\n",
        "from tensorflow.keras import layers"
      ],
      "execution_count": null,
      "outputs": []
    },
    {
      "cell_type": "code",
      "metadata": {
        "colab": {
          "base_uri": "https://localhost:8080/",
          "height": 391
        },
        "id": "czQMBN2V0nTr",
        "outputId": "569e148e-ad3e-4948-ed86-760bdc149b11"
      },
      "source": [
        "sns.pairplot(train_df[['Income','Risk Status']])"
      ],
      "execution_count": null,
      "outputs": [
        {
          "output_type": "execute_result",
          "data": {
            "text/plain": [
              "<seaborn.axisgrid.PairGrid at 0x7f229dc917d0>"
            ]
          },
          "metadata": {
            "tags": []
          },
          "execution_count": 575
        },
        {
          "output_type": "display_data",
          "data": {
            "image/png": "[encoded data removed]",
            "text/plain": [
              "<Figure size 360x360 with 6 Axes>"
            ]
          },
          "metadata": {
            "tags": [],
            "needs_background": "light"
          }
        }
      ]
    },
    {
      "cell_type": "code",
      "metadata": {
        "colab": {
          "base_uri": "https://localhost:8080/",
          "height": 391
        },
        "id": "aWpOxwLP1CKg",
        "outputId": "3b88940e-74ca-45af-bc60-cb19de91a07f"
      },
      "source": [
        "sns.pairplot(test_sub_df[['Income','Risk Status']])"
      ],
      "execution_count": null,
      "outputs": [
        {
          "output_type": "execute_result",
          "data": {
            "text/plain": [
              "<seaborn.axisgrid.PairGrid at 0x7f229da60350>"
            ]
          },
          "metadata": {
            "tags": []
          },
          "execution_count": 576
        },
        {
          "output_type": "display_data",
          "data": {
            "image/png": "[encoded data removed]",
            "text/plain": [
              "<Figure size 360x360 with 6 Axes>"
            ]
          },
          "metadata": {
            "tags": [],
            "needs_background": "light"
          }
        }
      ]
    },
    {
      "cell_type": "code",
      "metadata": {
        "id": "zmh3vHqU1oLb"
      },
      "source": [
        "normalizer = Normalization(axis = -1)\n",
        "normalizer.adapt(np.array(train_df).astype('float32'))"
      ],
      "execution_count": null,
      "outputs": []
    },
    {
      "cell_type": "code",
      "metadata": {
        "id": "RzQDS5Tm1PmB"
      },
      "source": [
        "vasin_model = tf.keras.Sequential()\n",
        "vasin_model.add(normalizer)  #อันนี้ normolize บน tain features ทั้งหมดvasin\n",
        "vasin_model.add(layers.Dense(64, activation = 'relu'))  #neuron network\n",
        "vasin_model.add(layers.Dense(32, activation = 'relu'))\n",
        "vasin_model.add(layers.Dense(1))"
      ],
      "execution_count": null,
      "outputs": []
    },
    {
      "cell_type": "code",
      "metadata": {
        "id": "EaWlvyQc2Ym4"
      },
      "source": [
        "train_features = train_df.copy()"
      ],
      "execution_count": null,
      "outputs": []
    },
    {
      "cell_type": "code",
      "metadata": {
        "id": "TM32fIw12djf"
      },
      "source": [
        "risk_status = np.array(train_features['Risk Status'])"
      ],
      "execution_count": null,
      "outputs": []
    },
    {
      "cell_type": "code",
      "metadata": {
        "id": "yEHNUFoF2AGR"
      },
      "source": [
        "#Compile  \n",
        "\n",
        "vasin_model.compile(optimizer = tf.keras.optimizers.SGD(learning_rate = 0.3), loss = 'mean_absolute_error',metrics=['accuracy'] )"
      ],
      "execution_count": null,
      "outputs": []
    },
    {
      "cell_type": "code",
      "metadata": {
        "colab": {
          "base_uri": "https://localhost:8080/"
        },
        "id": "uLBO0bPQ2ICt",
        "outputId": "f88f71a7-c966-43ac-f129-e6cf2c4a58c9"
      },
      "source": [
        "#Fit\n",
        "\n",
        "history = vasin_model.fit(risk_status, X_train, epochs = 100, validation_split = 0.1)"
      ],
      "execution_count": null,
      "outputs": [
        {
          "output_type": "stream",
          "text": [
            "Epoch 1/100\n",
            "79/79 [==============================] - 1s 4ms/step - loss: 1.2781 - accuracy: 0.4043 - val_loss: 0.8782 - val_accuracy: 0.4104\n",
            "Epoch 2/100\n",
            "79/79 [==============================] - 0s 2ms/step - loss: 0.8913 - accuracy: 0.4130 - val_loss: 0.8835 - val_accuracy: 0.4104\n",
            "Epoch 3/100\n",
            "79/79 [==============================] - 0s 2ms/step - loss: 0.8889 - accuracy: 0.4130 - val_loss: 0.8898 - val_accuracy: 0.4104\n",
            "Epoch 4/100\n",
            "79/79 [==============================] - 0s 2ms/step - loss: 0.8877 - accuracy: 0.4130 - val_loss: 0.8784 - val_accuracy: 0.4104\n",
            "Epoch 5/100\n",
            "79/79 [==============================] - 0s 3ms/step - loss: 0.8878 - accuracy: 0.4130 - val_loss: 0.9057 - val_accuracy: 0.4104\n",
            "Epoch 6/100\n",
            "79/79 [==============================] - 0s 2ms/step - loss: 0.8882 - accuracy: 0.4130 - val_loss: 0.8877 - val_accuracy: 0.4104\n",
            "Epoch 7/100\n",
            "79/79 [==============================] - 0s 2ms/step - loss: 0.8877 - accuracy: 0.4130 - val_loss: 0.8594 - val_accuracy: 0.4104\n",
            "Epoch 8/100\n",
            "79/79 [==============================] - 0s 2ms/step - loss: 0.8881 - accuracy: 0.4130 - val_loss: 0.8855 - val_accuracy: 0.4104\n",
            "Epoch 9/100\n",
            "79/79 [==============================] - 0s 2ms/step - loss: 0.8875 - accuracy: 0.4130 - val_loss: 0.8623 - val_accuracy: 0.4104\n",
            "Epoch 10/100\n",
            "79/79 [==============================] - 0s 2ms/step - loss: 0.8869 - accuracy: 0.4130 - val_loss: 0.8831 - val_accuracy: 0.4104\n",
            "Epoch 11/100\n",
            "79/79 [==============================] - 0s 2ms/step - loss: 0.8874 - accuracy: 0.4130 - val_loss: 0.8688 - val_accuracy: 0.4104\n",
            "Epoch 12/100\n",
            "79/79 [==============================] - 0s 2ms/step - loss: 0.8878 - accuracy: 0.4130 - val_loss: 0.8969 - val_accuracy: 0.4104\n",
            "Epoch 13/100\n",
            "79/79 [==============================] - 0s 2ms/step - loss: 0.8867 - accuracy: 0.4130 - val_loss: 0.8975 - val_accuracy: 0.4104\n",
            "Epoch 14/100\n",
            "79/79 [==============================] - 0s 2ms/step - loss: 0.8878 - accuracy: 0.4130 - val_loss: 0.8805 - val_accuracy: 0.4104\n",
            "Epoch 15/100\n",
            "79/79 [==============================] - 0s 2ms/step - loss: 0.8878 - accuracy: 0.4130 - val_loss: 0.8894 - val_accuracy: 0.4104\n",
            "Epoch 16/100\n",
            "79/79 [==============================] - 0s 2ms/step - loss: 0.8880 - accuracy: 0.4130 - val_loss: 0.9085 - val_accuracy: 0.4104\n",
            "Epoch 17/100\n",
            "79/79 [==============================] - 0s 2ms/step - loss: 0.8878 - accuracy: 0.4130 - val_loss: 0.9000 - val_accuracy: 0.4104\n",
            "Epoch 18/100\n",
            "79/79 [==============================] - 0s 2ms/step - loss: 0.8875 - accuracy: 0.4130 - val_loss: 0.8706 - val_accuracy: 0.4104\n",
            "Epoch 19/100\n",
            "79/79 [==============================] - 0s 2ms/step - loss: 0.8883 - accuracy: 0.4130 - val_loss: 0.8626 - val_accuracy: 0.4104\n",
            "Epoch 20/100\n",
            "79/79 [==============================] - 0s 2ms/step - loss: 0.8864 - accuracy: 0.4130 - val_loss: 0.8803 - val_accuracy: 0.4104\n",
            "Epoch 21/100\n",
            "79/79 [==============================] - 0s 2ms/step - loss: 0.8878 - accuracy: 0.4130 - val_loss: 0.8913 - val_accuracy: 0.4104\n",
            "Epoch 22/100\n",
            "79/79 [==============================] - 0s 2ms/step - loss: 0.8869 - accuracy: 0.4130 - val_loss: 0.9140 - val_accuracy: 0.4104\n",
            "Epoch 23/100\n",
            "79/79 [==============================] - 0s 2ms/step - loss: 0.8885 - accuracy: 0.4130 - val_loss: 0.8832 - val_accuracy: 0.4104\n",
            "Epoch 24/100\n",
            "79/79 [==============================] - 0s 2ms/step - loss: 0.8879 - accuracy: 0.4130 - val_loss: 0.9027 - val_accuracy: 0.4104\n",
            "Epoch 25/100\n",
            "79/79 [==============================] - 0s 2ms/step - loss: 0.8880 - accuracy: 0.4130 - val_loss: 0.9056 - val_accuracy: 0.4104\n",
            "Epoch 26/100\n",
            "79/79 [==============================] - 0s 2ms/step - loss: 0.8873 - accuracy: 0.4130 - val_loss: 0.8890 - val_accuracy: 0.4104\n",
            "Epoch 27/100\n",
            "79/79 [==============================] - 0s 2ms/step - loss: 0.8869 - accuracy: 0.4130 - val_loss: 0.9049 - val_accuracy: 0.4104\n",
            "Epoch 28/100\n",
            "79/79 [==============================] - 0s 2ms/step - loss: 0.8872 - accuracy: 0.4130 - val_loss: 0.8853 - val_accuracy: 0.4104\n",
            "Epoch 29/100\n",
            "79/79 [==============================] - 0s 2ms/step - loss: 0.8872 - accuracy: 0.4130 - val_loss: 0.8704 - val_accuracy: 0.4104\n",
            "Epoch 30/100\n",
            "79/79 [==============================] - 0s 2ms/step - loss: 0.8880 - accuracy: 0.4130 - val_loss: 0.8802 - val_accuracy: 0.4104\n",
            "Epoch 31/100\n",
            "79/79 [==============================] - 0s 2ms/step - loss: 0.8874 - accuracy: 0.4130 - val_loss: 0.9016 - val_accuracy: 0.4104\n",
            "Epoch 32/100\n",
            "79/79 [==============================] - 0s 2ms/step - loss: 0.8875 - accuracy: 0.4130 - val_loss: 0.8711 - val_accuracy: 0.4104\n",
            "Epoch 33/100\n",
            "79/79 [==============================] - 0s 2ms/step - loss: 0.8874 - accuracy: 0.4130 - val_loss: 0.8707 - val_accuracy: 0.4104\n",
            "Epoch 34/100\n",
            "79/79 [==============================] - 0s 2ms/step - loss: 0.8877 - accuracy: 0.4130 - val_loss: 0.8752 - val_accuracy: 0.4104\n",
            "Epoch 35/100\n",
            "79/79 [==============================] - 0s 2ms/step - loss: 0.8889 - accuracy: 0.4130 - val_loss: 0.8731 - val_accuracy: 0.4104\n",
            "Epoch 36/100\n",
            "79/79 [==============================] - 0s 2ms/step - loss: 0.8879 - accuracy: 0.4130 - val_loss: 0.8946 - val_accuracy: 0.4104\n",
            "Epoch 37/100\n",
            "79/79 [==============================] - 0s 2ms/step - loss: 0.8870 - accuracy: 0.4130 - val_loss: 0.8869 - val_accuracy: 0.4104\n",
            "Epoch 38/100\n",
            "79/79 [==============================] - 0s 2ms/step - loss: 0.8867 - accuracy: 0.4130 - val_loss: 0.9078 - val_accuracy: 0.4104\n",
            "Epoch 39/100\n",
            "79/79 [==============================] - 0s 2ms/step - loss: 0.8887 - accuracy: 0.4130 - val_loss: 0.8725 - val_accuracy: 0.4104\n",
            "Epoch 40/100\n",
            "79/79 [==============================] - 0s 3ms/step - loss: 0.8871 - accuracy: 0.4130 - val_loss: 0.8595 - val_accuracy: 0.4104\n",
            "Epoch 41/100\n",
            "79/79 [==============================] - 0s 2ms/step - loss: 0.8876 - accuracy: 0.4130 - val_loss: 0.8676 - val_accuracy: 0.4104\n",
            "Epoch 42/100\n",
            "79/79 [==============================] - 0s 3ms/step - loss: 0.8864 - accuracy: 0.4130 - val_loss: 0.8957 - val_accuracy: 0.4104\n",
            "Epoch 43/100\n",
            "79/79 [==============================] - 0s 2ms/step - loss: 0.8883 - accuracy: 0.4130 - val_loss: 0.9018 - val_accuracy: 0.4104\n",
            "Epoch 44/100\n",
            "79/79 [==============================] - 0s 2ms/step - loss: 0.8862 - accuracy: 0.4130 - val_loss: 0.8861 - val_accuracy: 0.4104\n",
            "Epoch 45/100\n",
            "79/79 [==============================] - 0s 2ms/step - loss: 0.8876 - accuracy: 0.4130 - val_loss: 0.9015 - val_accuracy: 0.4104\n",
            "Epoch 46/100\n",
            "79/79 [==============================] - 0s 2ms/step - loss: 0.8875 - accuracy: 0.4130 - val_loss: 0.8671 - val_accuracy: 0.4104\n",
            "Epoch 47/100\n",
            "79/79 [==============================] - 0s 2ms/step - loss: 0.8874 - accuracy: 0.4130 - val_loss: 0.8674 - val_accuracy: 0.4104\n",
            "Epoch 48/100\n",
            "79/79 [==============================] - 0s 2ms/step - loss: 0.8875 - accuracy: 0.4130 - val_loss: 0.8910 - val_accuracy: 0.4104\n",
            "Epoch 49/100\n",
            "79/79 [==============================] - 0s 2ms/step - loss: 0.8870 - accuracy: 0.4130 - val_loss: 0.8645 - val_accuracy: 0.4104\n",
            "Epoch 50/100\n",
            "79/79 [==============================] - 0s 2ms/step - loss: 0.8872 - accuracy: 0.4130 - val_loss: 0.9100 - val_accuracy: 0.4104\n",
            "Epoch 51/100\n",
            "79/79 [==============================] - 0s 2ms/step - loss: 0.8877 - accuracy: 0.4130 - val_loss: 0.8730 - val_accuracy: 0.4104\n",
            "Epoch 52/100\n",
            "79/79 [==============================] - 0s 3ms/step - loss: 0.8877 - accuracy: 0.4130 - val_loss: 0.8871 - val_accuracy: 0.4104\n",
            "Epoch 53/100\n",
            "79/79 [==============================] - 0s 3ms/step - loss: 0.8887 - accuracy: 0.4130 - val_loss: 0.8623 - val_accuracy: 0.4104\n",
            "Epoch 54/100\n",
            "79/79 [==============================] - 0s 2ms/step - loss: 0.8878 - accuracy: 0.4130 - val_loss: 0.9012 - val_accuracy: 0.4104\n",
            "Epoch 55/100\n",
            "79/79 [==============================] - 0s 3ms/step - loss: 0.8882 - accuracy: 0.4130 - val_loss: 0.8881 - val_accuracy: 0.4104\n",
            "Epoch 56/100\n",
            "79/79 [==============================] - 0s 2ms/step - loss: 0.8875 - accuracy: 0.4130 - val_loss: 0.8810 - val_accuracy: 0.4104\n",
            "Epoch 57/100\n",
            "79/79 [==============================] - 0s 3ms/step - loss: 0.8871 - accuracy: 0.4130 - val_loss: 0.8753 - val_accuracy: 0.4104\n",
            "Epoch 58/100\n",
            "79/79 [==============================] - 0s 2ms/step - loss: 0.8865 - accuracy: 0.4130 - val_loss: 0.9028 - val_accuracy: 0.4104\n",
            "Epoch 59/100\n",
            "79/79 [==============================] - 0s 2ms/step - loss: 0.8877 - accuracy: 0.4130 - val_loss: 0.8997 - val_accuracy: 0.4104\n",
            "Epoch 60/100\n",
            "79/79 [==============================] - 0s 2ms/step - loss: 0.8875 - accuracy: 0.4130 - val_loss: 0.9015 - val_accuracy: 0.4104\n",
            "Epoch 61/100\n",
            "79/79 [==============================] - 0s 2ms/step - loss: 0.8880 - accuracy: 0.4130 - val_loss: 0.8942 - val_accuracy: 0.4104\n",
            "Epoch 62/100\n",
            "79/79 [==============================] - 0s 3ms/step - loss: 0.8886 - accuracy: 0.4130 - val_loss: 0.8882 - val_accuracy: 0.4104\n",
            "Epoch 63/100\n",
            "79/79 [==============================] - 0s 2ms/step - loss: 0.8872 - accuracy: 0.4130 - val_loss: 0.8979 - val_accuracy: 0.4104\n",
            "Epoch 64/100\n",
            "79/79 [==============================] - 0s 2ms/step - loss: 0.8870 - accuracy: 0.4130 - val_loss: 0.9063 - val_accuracy: 0.4104\n",
            "Epoch 65/100\n",
            "79/79 [==============================] - 0s 3ms/step - loss: 0.8882 - accuracy: 0.4130 - val_loss: 0.8892 - val_accuracy: 0.4104\n",
            "Epoch 66/100\n",
            "79/79 [==============================] - 0s 2ms/step - loss: 0.8864 - accuracy: 0.4130 - val_loss: 0.8876 - val_accuracy: 0.4104\n",
            "Epoch 67/100\n",
            "79/79 [==============================] - 0s 3ms/step - loss: 0.8876 - accuracy: 0.4130 - val_loss: 0.8842 - val_accuracy: 0.4104\n",
            "Epoch 68/100\n",
            "79/79 [==============================] - 0s 2ms/step - loss: 0.8879 - accuracy: 0.4130 - val_loss: 0.8812 - val_accuracy: 0.4104\n",
            "Epoch 69/100\n",
            "79/79 [==============================] - 0s 3ms/step - loss: 0.8885 - accuracy: 0.4130 - val_loss: 0.8721 - val_accuracy: 0.4104\n",
            "Epoch 70/100\n",
            "79/79 [==============================] - 0s 2ms/step - loss: 0.8870 - accuracy: 0.4130 - val_loss: 0.8913 - val_accuracy: 0.4104\n",
            "Epoch 71/100\n",
            "79/79 [==============================] - 0s 3ms/step - loss: 0.8868 - accuracy: 0.4130 - val_loss: 0.8978 - val_accuracy: 0.4104\n",
            "Epoch 72/100\n",
            "79/79 [==============================] - 0s 3ms/step - loss: 0.8882 - accuracy: 0.4130 - val_loss: 0.9007 - val_accuracy: 0.4104\n",
            "Epoch 73/100\n",
            "79/79 [==============================] - 0s 2ms/step - loss: 0.8876 - accuracy: 0.4130 - val_loss: 0.8879 - val_accuracy: 0.4104\n",
            "Epoch 74/100\n",
            "79/79 [==============================] - 0s 2ms/step - loss: 0.8881 - accuracy: 0.4130 - val_loss: 0.8914 - val_accuracy: 0.4104\n",
            "Epoch 75/100\n",
            "79/79 [==============================] - 0s 2ms/step - loss: 0.8878 - accuracy: 0.4130 - val_loss: 0.8599 - val_accuracy: 0.4104\n",
            "Epoch 76/100\n",
            "79/79 [==============================] - 0s 3ms/step - loss: 0.8876 - accuracy: 0.4130 - val_loss: 0.8627 - val_accuracy: 0.4104\n",
            "Epoch 77/100\n",
            "79/79 [==============================] - 0s 3ms/step - loss: 0.8873 - accuracy: 0.4130 - val_loss: 0.8644 - val_accuracy: 0.4104\n",
            "Epoch 78/100\n",
            "79/79 [==============================] - 0s 2ms/step - loss: 0.8866 - accuracy: 0.4130 - val_loss: 0.9050 - val_accuracy: 0.4104\n",
            "Epoch 79/100\n",
            "79/79 [==============================] - 0s 3ms/step - loss: 0.8879 - accuracy: 0.4130 - val_loss: 0.8750 - val_accuracy: 0.4104\n",
            "Epoch 80/100\n",
            "79/79 [==============================] - 0s 2ms/step - loss: 0.8876 - accuracy: 0.4130 - val_loss: 0.8840 - val_accuracy: 0.4104\n",
            "Epoch 81/100\n",
            "79/79 [==============================] - 0s 2ms/step - loss: 0.8877 - accuracy: 0.4130 - val_loss: 0.8707 - val_accuracy: 0.4104\n",
            "Epoch 82/100\n",
            "79/79 [==============================] - 0s 3ms/step - loss: 0.8878 - accuracy: 0.4130 - val_loss: 0.8850 - val_accuracy: 0.4104\n",
            "Epoch 83/100\n",
            "79/79 [==============================] - 0s 2ms/step - loss: 0.8894 - accuracy: 0.4130 - val_loss: 0.8855 - val_accuracy: 0.4104\n",
            "Epoch 84/100\n",
            "79/79 [==============================] - 0s 2ms/step - loss: 0.8866 - accuracy: 0.4130 - val_loss: 0.8608 - val_accuracy: 0.4104\n",
            "Epoch 85/100\n",
            "79/79 [==============================] - 0s 2ms/step - loss: 0.8872 - accuracy: 0.4130 - val_loss: 0.8613 - val_accuracy: 0.4104\n",
            "Epoch 86/100\n",
            "79/79 [==============================] - 0s 3ms/step - loss: 0.8882 - accuracy: 0.4130 - val_loss: 0.8737 - val_accuracy: 0.4104\n",
            "Epoch 87/100\n",
            "79/79 [==============================] - 0s 2ms/step - loss: 0.8879 - accuracy: 0.4130 - val_loss: 0.8918 - val_accuracy: 0.4104\n",
            "Epoch 88/100\n",
            "79/79 [==============================] - 0s 3ms/step - loss: 0.8871 - accuracy: 0.4130 - val_loss: 0.8815 - val_accuracy: 0.4104\n",
            "Epoch 89/100\n",
            "79/79 [==============================] - 0s 2ms/step - loss: 0.8881 - accuracy: 0.4130 - val_loss: 0.8822 - val_accuracy: 0.4104\n",
            "Epoch 90/100\n",
            "79/79 [==============================] - 0s 2ms/step - loss: 0.8872 - accuracy: 0.4130 - val_loss: 0.8796 - val_accuracy: 0.4104\n",
            "Epoch 91/100\n",
            "79/79 [==============================] - 0s 2ms/step - loss: 0.8883 - accuracy: 0.4130 - val_loss: 0.9017 - val_accuracy: 0.4104\n",
            "Epoch 92/100\n",
            "79/79 [==============================] - 0s 2ms/step - loss: 0.8882 - accuracy: 0.4130 - val_loss: 0.8915 - val_accuracy: 0.4104\n",
            "Epoch 93/100\n",
            "79/79 [==============================] - 0s 2ms/step - loss: 0.8880 - accuracy: 0.4130 - val_loss: 0.8844 - val_accuracy: 0.4104\n",
            "Epoch 94/100\n",
            "79/79 [==============================] - 0s 3ms/step - loss: 0.8870 - accuracy: 0.4130 - val_loss: 0.8826 - val_accuracy: 0.4104\n",
            "Epoch 95/100\n",
            "79/79 [==============================] - 0s 3ms/step - loss: 0.8883 - accuracy: 0.4130 - val_loss: 0.8619 - val_accuracy: 0.4104\n",
            "Epoch 96/100\n",
            "79/79 [==============================] - 0s 2ms/step - loss: 0.8881 - accuracy: 0.4130 - val_loss: 0.9071 - val_accuracy: 0.4104\n",
            "Epoch 97/100\n",
            "79/79 [==============================] - 0s 2ms/step - loss: 0.8876 - accuracy: 0.4130 - val_loss: 0.9002 - val_accuracy: 0.4104\n",
            "Epoch 98/100\n",
            "79/79 [==============================] - 0s 3ms/step - loss: 0.8875 - accuracy: 0.4130 - val_loss: 0.8818 - val_accuracy: 0.4104\n",
            "Epoch 99/100\n",
            "79/79 [==============================] - 0s 2ms/step - loss: 0.8887 - accuracy: 0.4130 - val_loss: 0.8757 - val_accuracy: 0.4104\n",
            "Epoch 100/100\n",
            "79/79 [==============================] - 0s 2ms/step - loss: 0.8872 - accuracy: 0.4130 - val_loss: 0.8696 - val_accuracy: 0.4104\n"
          ],
          "name": "stdout"
        }
      ]
    },
    {
      "cell_type": "code",
      "metadata": {
        "colab": {
          "base_uri": "https://localhost:8080/"
        },
        "id": "GrqHz2_w3dea",
        "outputId": "ba6009fb-7dd5-4ff5-e102-ef5b20c632e4"
      },
      "source": [
        "vasin_model.summary()"
      ],
      "execution_count": null,
      "outputs": [
        {
          "output_type": "stream",
          "text": [
            "Model: \"sequential_3\"\n",
            "_________________________________________________________________\n",
            "Layer (type)                 Output Shape              Param #   \n",
            "=================================================================\n",
            "normalization_2 (Normalizati (None, 7)                 15        \n",
            "_________________________________________________________________\n",
            "dense_9 (Dense)              (None, 64)                512       \n",
            "_________________________________________________________________\n",
            "dense_10 (Dense)             (None, 32)                2080      \n",
            "_________________________________________________________________\n",
            "dense_11 (Dense)             (None, 1)                 33        \n",
            "=================================================================\n",
            "Total params: 2,640\n",
            "Trainable params: 2,625\n",
            "Non-trainable params: 15\n",
            "_________________________________________________________________\n"
          ],
          "name": "stdout"
        }
      ]
    },
    {
      "cell_type": "code",
      "metadata": {
        "colab": {
          "base_uri": "https://localhost:8080/",
          "height": 265
        },
        "id": "KZLvm_xN3kPq",
        "outputId": "ff01a121-dcfd-41d7-f634-cc0fb51140ef"
      },
      "source": [
        "plt.plot(history.history['loss'], label = 'loss')\n",
        "plt.plot(history.history['val_loss'], label = 'validation loss')\n",
        "\n",
        "plt.legend()\n",
        "plt.show()"
      ],
      "execution_count": null,
      "outputs": [
        {
          "output_type": "display_data",
          "data": {
            "image/png": "[encoded data removed]",
            "text/plain": [
              "<Figure size 432x288 with 1 Axes>"
            ]
          },
          "metadata": {
            "tags": [],
            "needs_background": "light"
          }
        }
      ]
    },
    {
      "cell_type": "markdown",
      "metadata": {
        "id": "x1xaDhJT2Siy"
      },
      "source": [
        "# **Which is the best Model ?**"
      ]
    },
    {
      "cell_type": "code",
      "metadata": {
        "id": "ZuIwrB1n2Ty4",
        "colab": {
          "base_uri": "https://localhost:8080/"
        },
        "outputId": "4107ed08-9ea8-45b9-fe45-abd2dab04a19"
      },
      "source": [
        "results = pd.DataFrame({\n",
        "    'Model': ['Support Vector Machines', 'KNN', 'Logistic Regression', \n",
        "              'Random Forest', 'Naive Bayes', 'Perceptron', \n",
        "              'Stochastic Gradient Decent', \n",
        "              'Decision Tree'],\n",
        "    'Score': [acc_linear_svc, acc_knn, acc_log, \n",
        "              acc_random_forest, acc_gaussian, acc_perceptron, \n",
        "              acc_sgd, acc_decision_tree]})\n",
        "result_df = results.sort_values(by='Score', ascending=False)\n",
        "result_df = result_df.set_index('Score')\n",
        "result_df.head(9)"
      ],
      "execution_count": null,
      "outputs": [
        {
          "output_type": "execute_result",
          "data": {
            "text/html": [
              "<div>\n",
              "<style scoped>\n",
              "    .dataframe tbody tr th:only-of-type {\n",
              "        vertical-align: middle;\n",
              "    }\n",
              "\n",
              "    .dataframe tbody tr th {\n",
              "        vertical-align: top;\n",
              "    }\n",
              "\n",
              "    .dataframe thead th {\n",
              "        text-align: right;\n",
              "    }\n",
              "</style>\n",
              "<table border=\"1\" class=\"dataframe\">\n",
              "  <thead>\n",
              "    <tr style=\"text-align: right;\">\n",
              "      <th></th>\n",
              "      <th>Model</th>\n",
              "    </tr>\n",
              "    <tr>\n",
              "      <th>Score</th>\n",
              "      <th></th>\n",
              "    </tr>\n",
              "  </thead>\n",
              "  <tbody>\n",
              "    <tr>\n",
              "      <th>89.30</th>\n",
              "      <td>Random Forest</td>\n",
              "    </tr>\n",
              "    <tr>\n",
              "      <th>89.30</th>\n",
              "      <td>Decision Tree</td>\n",
              "    </tr>\n",
              "    <tr>\n",
              "      <th>85.31</th>\n",
              "      <td>KNN</td>\n",
              "    </tr>\n",
              "    <tr>\n",
              "      <th>81.57</th>\n",
              "      <td>Logistic Regression</td>\n",
              "    </tr>\n",
              "    <tr>\n",
              "      <th>80.21</th>\n",
              "      <td>Support Vector Machines</td>\n",
              "    </tr>\n",
              "    <tr>\n",
              "      <th>66.67</th>\n",
              "      <td>Naive Bayes</td>\n",
              "    </tr>\n",
              "    <tr>\n",
              "      <th>65.70</th>\n",
              "      <td>Stochastic Gradient Decent</td>\n",
              "    </tr>\n",
              "    <tr>\n",
              "      <th>64.06</th>\n",
              "      <td>Perceptron</td>\n",
              "    </tr>\n",
              "  </tbody>\n",
              "</table>\n",
              "</div>"
            ],
            "text/plain": [
              "                            Model\n",
              "Score                            \n",
              "89.30               Random Forest\n",
              "89.30               Decision Tree\n",
              "85.31                         KNN\n",
              "81.57         Logistic Regression\n",
              "80.21     Support Vector Machines\n",
              "66.67                 Naive Bayes\n",
              "65.70  Stochastic Gradient Decent\n",
              "64.06                  Perceptron"
            ]
          },
          "metadata": {
            "tags": []
          },
          "execution_count": 586
        }
      ]
    },
    {
      "cell_type": "code",
      "metadata": {
        "id": "f-H2MnF12pPo",
        "colab": {
          "base_uri": "https://localhost:8080/"
        },
        "outputId": "5791dc27-ce9d-4edb-ca32-f173d3457700"
      },
      "source": [
        "from sklearn.model_selection import cross_val_score\n",
        "rf = RandomForestClassifier(n_estimators=100)\n",
        "scores = cross_val_score(rf, X_train, Y_train, cv=10, scoring = \"accuracy\")\n",
        "print(\"Scores:\", scores)\n",
        "print(\"Mean:\", scores.mean())\n",
        "print(\"Standard Deviation:\", scores.std())"
      ],
      "execution_count": null,
      "outputs": [
        {
          "output_type": "stream",
          "text": [
            "/usr/local/lib/python3.7/dist-packages/sklearn/model_selection/_split.py:667: UserWarning: The least populated class in y has only 9 members, which is less than n_splits=10.\n",
            "  % (min_groups, self.n_splits)), UserWarning)\n"
          ],
          "name": "stderr"
        },
        {
          "output_type": "stream",
          "text": [
            "Scores: [0.81850534 0.77935943 0.79003559 0.76512456 0.78291815 0.83214286\n",
            " 0.8        0.77857143 0.79285714 0.78928571]\n",
            "Mean: 0.7928800203355364\n",
            "Standard Deviation: 0.01878051808800238\n"
          ],
          "name": "stdout"
        }
      ]
    },
    {
      "cell_type": "markdown",
      "metadata": {
        "id": "Y-2GDTNH294r"
      },
      "source": [
        "# **Feature Importance**"
      ]
    },
    {
      "cell_type": "code",
      "metadata": {
        "id": "oscvf7Uo2-lj",
        "colab": {
          "base_uri": "https://localhost:8080/"
        },
        "outputId": "57e36c76-41e2-4a17-c947-ec27b18d3ec6"
      },
      "source": [
        "importances = pd.DataFrame({'feature':X_train.columns,'importance':np.round(random_forest.feature_importances_,3)})\n",
        "importances = importances.sort_values('importance',ascending=False).set_index('feature')\n",
        "importances.head(15)"
      ],
      "execution_count": null,
      "outputs": [
        {
          "output_type": "execute_result",
          "data": {
            "text/html": [
              "<div>\n",
              "<style scoped>\n",
              "    .dataframe tbody tr th:only-of-type {\n",
              "        vertical-align: middle;\n",
              "    }\n",
              "\n",
              "    .dataframe tbody tr th {\n",
              "        vertical-align: top;\n",
              "    }\n",
              "\n",
              "    .dataframe thead th {\n",
              "        text-align: right;\n",
              "    }\n",
              "</style>\n",
              "<table border=\"1\" class=\"dataframe\">\n",
              "  <thead>\n",
              "    <tr style=\"text-align: right;\">\n",
              "      <th></th>\n",
              "      <th>importance</th>\n",
              "    </tr>\n",
              "    <tr>\n",
              "      <th>feature</th>\n",
              "      <th></th>\n",
              "    </tr>\n",
              "  </thead>\n",
              "  <tbody>\n",
              "    <tr>\n",
              "      <th>Income</th>\n",
              "      <td>0.244</td>\n",
              "    </tr>\n",
              "    <tr>\n",
              "      <th>Employment Status</th>\n",
              "      <td>0.207</td>\n",
              "    </tr>\n",
              "    <tr>\n",
              "      <th>Education</th>\n",
              "      <td>0.201</td>\n",
              "    </tr>\n",
              "    <tr>\n",
              "      <th>Dependents</th>\n",
              "      <td>0.194</td>\n",
              "    </tr>\n",
              "    <tr>\n",
              "      <th>Mortgage</th>\n",
              "      <td>0.119</td>\n",
              "    </tr>\n",
              "    <tr>\n",
              "      <th>Credit</th>\n",
              "      <td>0.036</td>\n",
              "    </tr>\n",
              "  </tbody>\n",
              "</table>\n",
              "</div>"
            ],
            "text/plain": [
              "                   importance\n",
              "feature                      \n",
              "Income                  0.244\n",
              "Employment Status       0.207\n",
              "Education               0.201\n",
              "Dependents              0.194\n",
              "Mortgage                0.119\n",
              "Credit                  0.036"
            ]
          },
          "metadata": {
            "tags": []
          },
          "execution_count": 588
        }
      ]
    },
    {
      "cell_type": "code",
      "metadata": {
        "id": "H2UsUdx93FKW",
        "colab": {
          "base_uri": "https://localhost:8080/"
        },
        "outputId": "9b5d83a3-298a-4397-81fb-4049354f565c"
      },
      "source": [
        "importances.plot.bar()"
      ],
      "execution_count": null,
      "outputs": [
        {
          "output_type": "execute_result",
          "data": {
            "text/plain": [
              "<matplotlib.axes._subplots.AxesSubplot at 0x7f229dbdc250>"
            ]
          },
          "metadata": {
            "tags": []
          },
          "execution_count": 589
        },
        {
          "output_type": "display_data",
          "data": {
            "image/png": "[encoded data removed]",
            "text/plain": [
              "<Figure size 432x288 with 1 Axes>"
            ]
          },
          "metadata": {
            "tags": [],
            "needs_background": "light"
          }
        }
      ]
    },
    {
      "cell_type": "markdown",
      "metadata": {
        "id": "RcR3WoQg3KGK"
      },
      "source": [
        "# **Further Evaluation**"
      ]
    },
    {
      "cell_type": "code",
      "metadata": {
        "id": "ce6EtAiN3twW",
        "colab": {
          "base_uri": "https://localhost:8080/"
        },
        "outputId": "f3ced261-14a7-4a42-d2e5-315a0905a2e2"
      },
      "source": [
        "from sklearn.model_selection import cross_val_predict\n",
        "from sklearn.metrics import confusion_matrix\n",
        "predictions = cross_val_predict(random_forest, X_train, Y_train, cv=3)\n",
        "confusion_matrix(Y_train, predictions)"
      ],
      "execution_count": null,
      "outputs": [
        {
          "output_type": "execute_result",
          "data": {
            "text/plain": [
              "array([[  12,   22,    0,    0,    0],\n",
              "       [  12,  755,  158,    0,    0],\n",
              "       [   0,  130, 1031,  119,    0],\n",
              "       [   0,    0,  145,  412,    0],\n",
              "       [   0,    0,    0,    7,    2]])"
            ]
          },
          "metadata": {
            "tags": []
          },
          "execution_count": 590
        }
      ]
    },
    {
      "cell_type": "markdown",
      "metadata": {
        "id": "eR8k7nw238Uz"
      },
      "source": [
        "# **Precision and Recall**"
      ]
    },
    {
      "cell_type": "code",
      "metadata": {
        "id": "4u7CrcBs5ds-",
        "colab": {
          "base_uri": "https://localhost:8080/"
        },
        "outputId": "1b09b624-176e-4497-d29e-f841924ba67d"
      },
      "source": [
        "from sklearn.metrics import precision_score, recall_score\n",
        "\n",
        "print(\"Precision:\", precision_score(Y_train, predictions,average='micro'))\n",
        "print(\"Recall:\",recall_score(Y_train, predictions,average='micro'))"
      ],
      "execution_count": null,
      "outputs": [
        {
          "output_type": "stream",
          "text": [
            "Precision: 0.7885918003565062\n",
            "Recall: 0.7885918003565062\n"
          ],
          "name": "stdout"
        }
      ]
    },
    {
      "cell_type": "markdown",
      "metadata": {
        "id": "Jq4CoOcD7DAb"
      },
      "source": [
        "# **Testing**"
      ]
    },
    {
      "cell_type": "code",
      "metadata": {
        "id": "hTJSGvZNt57l",
        "colab": {
          "base_uri": "https://localhost:8080/",
          "height": 973
        },
        "outputId": "a87926e0-fae1-40ed-84eb-9207f249f427"
      },
      "source": [
        "test_df.head(30)"
      ],
      "execution_count": null,
      "outputs": [
        {
          "output_type": "execute_result",
          "data": {
            "text/html": [
              "<div>\n",
              "<style scoped>\n",
              "    .dataframe tbody tr th:only-of-type {\n",
              "        vertical-align: middle;\n",
              "    }\n",
              "\n",
              "    .dataframe tbody tr th {\n",
              "        vertical-align: top;\n",
              "    }\n",
              "\n",
              "    .dataframe thead th {\n",
              "        text-align: right;\n",
              "    }\n",
              "</style>\n",
              "<table border=\"1\" class=\"dataframe\">\n",
              "  <thead>\n",
              "    <tr style=\"text-align: right;\">\n",
              "      <th></th>\n",
              "      <th>Gender</th>\n",
              "      <th>Income</th>\n",
              "      <th>Education</th>\n",
              "      <th>Dependents</th>\n",
              "      <th>Marital Status</th>\n",
              "      <th>Employment Status</th>\n",
              "      <th>Mortgage</th>\n",
              "      <th>Resident</th>\n",
              "      <th>Credit</th>\n",
              "      <th>Risk Status</th>\n",
              "      <th>Risk Predicted</th>\n",
              "    </tr>\n",
              "  </thead>\n",
              "  <tbody>\n",
              "    <tr>\n",
              "      <th>0</th>\n",
              "      <td>Male</td>\n",
              "      <td>3</td>\n",
              "      <td>2</td>\n",
              "      <td>1</td>\n",
              "      <td>Married</td>\n",
              "      <td>3</td>\n",
              "      <td>1</td>\n",
              "      <td>Semi-urban</td>\n",
              "      <td>0</td>\n",
              "      <td>NaN</td>\n",
              "      <td>3</td>\n",
              "    </tr>\n",
              "    <tr>\n",
              "      <th>1</th>\n",
              "      <td>Male</td>\n",
              "      <td>2</td>\n",
              "      <td>1</td>\n",
              "      <td>2</td>\n",
              "      <td>Widowed</td>\n",
              "      <td>0</td>\n",
              "      <td>1</td>\n",
              "      <td>Urban</td>\n",
              "      <td>1</td>\n",
              "      <td>NaN</td>\n",
              "      <td>3</td>\n",
              "    </tr>\n",
              "    <tr>\n",
              "      <th>2</th>\n",
              "      <td>Female</td>\n",
              "      <td>0</td>\n",
              "      <td>3</td>\n",
              "      <td>2</td>\n",
              "      <td>Married</td>\n",
              "      <td>2</td>\n",
              "      <td>1</td>\n",
              "      <td>Urban</td>\n",
              "      <td>0</td>\n",
              "      <td>NaN</td>\n",
              "      <td>4</td>\n",
              "    </tr>\n",
              "    <tr>\n",
              "      <th>3</th>\n",
              "      <td>Female</td>\n",
              "      <td>1</td>\n",
              "      <td>3</td>\n",
              "      <td>1</td>\n",
              "      <td>Separated</td>\n",
              "      <td>3</td>\n",
              "      <td>1</td>\n",
              "      <td>Urban</td>\n",
              "      <td>0</td>\n",
              "      <td>NaN</td>\n",
              "      <td>4</td>\n",
              "    </tr>\n",
              "    <tr>\n",
              "      <th>4</th>\n",
              "      <td>Male</td>\n",
              "      <td>5</td>\n",
              "      <td>0</td>\n",
              "      <td>1</td>\n",
              "      <td>Single</td>\n",
              "      <td>0</td>\n",
              "      <td>0</td>\n",
              "      <td>Semi-urban</td>\n",
              "      <td>1</td>\n",
              "      <td>NaN</td>\n",
              "      <td>2</td>\n",
              "    </tr>\n",
              "    <tr>\n",
              "      <th>5</th>\n",
              "      <td>Male</td>\n",
              "      <td>3</td>\n",
              "      <td>0</td>\n",
              "      <td>1</td>\n",
              "      <td>Widowed</td>\n",
              "      <td>0</td>\n",
              "      <td>1</td>\n",
              "      <td>Semi-urban</td>\n",
              "      <td>0</td>\n",
              "      <td>NaN</td>\n",
              "      <td>2</td>\n",
              "    </tr>\n",
              "    <tr>\n",
              "      <th>6</th>\n",
              "      <td>Female</td>\n",
              "      <td>0</td>\n",
              "      <td>2</td>\n",
              "      <td>0</td>\n",
              "      <td>Widowed</td>\n",
              "      <td>1</td>\n",
              "      <td>1</td>\n",
              "      <td>Rural</td>\n",
              "      <td>1</td>\n",
              "      <td>NaN</td>\n",
              "      <td>3</td>\n",
              "    </tr>\n",
              "    <tr>\n",
              "      <th>7</th>\n",
              "      <td>Male</td>\n",
              "      <td>1</td>\n",
              "      <td>2</td>\n",
              "      <td>1</td>\n",
              "      <td>Widowed</td>\n",
              "      <td>4</td>\n",
              "      <td>0</td>\n",
              "      <td>Urban</td>\n",
              "      <td>1</td>\n",
              "      <td>NaN</td>\n",
              "      <td>4</td>\n",
              "    </tr>\n",
              "    <tr>\n",
              "      <th>8</th>\n",
              "      <td>Male</td>\n",
              "      <td>1</td>\n",
              "      <td>2</td>\n",
              "      <td>1</td>\n",
              "      <td>Single</td>\n",
              "      <td>3</td>\n",
              "      <td>1</td>\n",
              "      <td>Semi-urban</td>\n",
              "      <td>1</td>\n",
              "      <td>NaN</td>\n",
              "      <td>4</td>\n",
              "    </tr>\n",
              "    <tr>\n",
              "      <th>9</th>\n",
              "      <td>Male</td>\n",
              "      <td>1</td>\n",
              "      <td>3</td>\n",
              "      <td>1</td>\n",
              "      <td>Separated</td>\n",
              "      <td>5</td>\n",
              "      <td>0</td>\n",
              "      <td>Urban</td>\n",
              "      <td>0</td>\n",
              "      <td>NaN</td>\n",
              "      <td>4</td>\n",
              "    </tr>\n",
              "    <tr>\n",
              "      <th>10</th>\n",
              "      <td>Female</td>\n",
              "      <td>1</td>\n",
              "      <td>2</td>\n",
              "      <td>2</td>\n",
              "      <td>Widowed</td>\n",
              "      <td>1</td>\n",
              "      <td>0</td>\n",
              "      <td>Urban</td>\n",
              "      <td>1</td>\n",
              "      <td>NaN</td>\n",
              "      <td>4</td>\n",
              "    </tr>\n",
              "    <tr>\n",
              "      <th>11</th>\n",
              "      <td>Female</td>\n",
              "      <td>0</td>\n",
              "      <td>3</td>\n",
              "      <td>1</td>\n",
              "      <td>Married</td>\n",
              "      <td>2</td>\n",
              "      <td>1</td>\n",
              "      <td>Rural</td>\n",
              "      <td>1</td>\n",
              "      <td>NaN</td>\n",
              "      <td>3</td>\n",
              "    </tr>\n",
              "    <tr>\n",
              "      <th>12</th>\n",
              "      <td>Female</td>\n",
              "      <td>1</td>\n",
              "      <td>2</td>\n",
              "      <td>0</td>\n",
              "      <td>Separated</td>\n",
              "      <td>1</td>\n",
              "      <td>0</td>\n",
              "      <td>Rural</td>\n",
              "      <td>0</td>\n",
              "      <td>NaN</td>\n",
              "      <td>3</td>\n",
              "    </tr>\n",
              "    <tr>\n",
              "      <th>13</th>\n",
              "      <td>Female</td>\n",
              "      <td>5</td>\n",
              "      <td>1</td>\n",
              "      <td>2</td>\n",
              "      <td>Widowed</td>\n",
              "      <td>1</td>\n",
              "      <td>1</td>\n",
              "      <td>Urban</td>\n",
              "      <td>1</td>\n",
              "      <td>NaN</td>\n",
              "      <td>2</td>\n",
              "    </tr>\n",
              "    <tr>\n",
              "      <th>14</th>\n",
              "      <td>Male</td>\n",
              "      <td>0</td>\n",
              "      <td>1</td>\n",
              "      <td>1</td>\n",
              "      <td>Widowed</td>\n",
              "      <td>3</td>\n",
              "      <td>0</td>\n",
              "      <td>Semi-urban</td>\n",
              "      <td>1</td>\n",
              "      <td>NaN</td>\n",
              "      <td>4</td>\n",
              "    </tr>\n",
              "    <tr>\n",
              "      <th>15</th>\n",
              "      <td>Female</td>\n",
              "      <td>0</td>\n",
              "      <td>3</td>\n",
              "      <td>1</td>\n",
              "      <td>Widowed</td>\n",
              "      <td>3</td>\n",
              "      <td>1</td>\n",
              "      <td>Rural</td>\n",
              "      <td>0</td>\n",
              "      <td>NaN</td>\n",
              "      <td>4</td>\n",
              "    </tr>\n",
              "    <tr>\n",
              "      <th>16</th>\n",
              "      <td>Male</td>\n",
              "      <td>1</td>\n",
              "      <td>0</td>\n",
              "      <td>2</td>\n",
              "      <td>Separated</td>\n",
              "      <td>4</td>\n",
              "      <td>0</td>\n",
              "      <td>Urban</td>\n",
              "      <td>1</td>\n",
              "      <td>NaN</td>\n",
              "      <td>3</td>\n",
              "    </tr>\n",
              "    <tr>\n",
              "      <th>17</th>\n",
              "      <td>Female</td>\n",
              "      <td>1</td>\n",
              "      <td>1</td>\n",
              "      <td>2</td>\n",
              "      <td>Divorced</td>\n",
              "      <td>2</td>\n",
              "      <td>1</td>\n",
              "      <td>Urban</td>\n",
              "      <td>1</td>\n",
              "      <td>NaN</td>\n",
              "      <td>3</td>\n",
              "    </tr>\n",
              "    <tr>\n",
              "      <th>18</th>\n",
              "      <td>Female</td>\n",
              "      <td>0</td>\n",
              "      <td>3</td>\n",
              "      <td>2</td>\n",
              "      <td>Single</td>\n",
              "      <td>2</td>\n",
              "      <td>1</td>\n",
              "      <td>Rural</td>\n",
              "      <td>0</td>\n",
              "      <td>NaN</td>\n",
              "      <td>4</td>\n",
              "    </tr>\n",
              "    <tr>\n",
              "      <th>19</th>\n",
              "      <td>Female</td>\n",
              "      <td>1</td>\n",
              "      <td>2</td>\n",
              "      <td>1</td>\n",
              "      <td>Single</td>\n",
              "      <td>2</td>\n",
              "      <td>0</td>\n",
              "      <td>Semi-urban</td>\n",
              "      <td>1</td>\n",
              "      <td>NaN</td>\n",
              "      <td>4</td>\n",
              "    </tr>\n",
              "    <tr>\n",
              "      <th>20</th>\n",
              "      <td>Male</td>\n",
              "      <td>1</td>\n",
              "      <td>1</td>\n",
              "      <td>3</td>\n",
              "      <td>Married</td>\n",
              "      <td>1</td>\n",
              "      <td>1</td>\n",
              "      <td>Rural</td>\n",
              "      <td>0</td>\n",
              "      <td>NaN</td>\n",
              "      <td>3</td>\n",
              "    </tr>\n",
              "    <tr>\n",
              "      <th>21</th>\n",
              "      <td>Male</td>\n",
              "      <td>2</td>\n",
              "      <td>1</td>\n",
              "      <td>0</td>\n",
              "      <td>Married</td>\n",
              "      <td>3</td>\n",
              "      <td>1</td>\n",
              "      <td>Urban</td>\n",
              "      <td>0</td>\n",
              "      <td>NaN</td>\n",
              "      <td>3</td>\n",
              "    </tr>\n",
              "    <tr>\n",
              "      <th>22</th>\n",
              "      <td>Female</td>\n",
              "      <td>3</td>\n",
              "      <td>1</td>\n",
              "      <td>1</td>\n",
              "      <td>Widowed</td>\n",
              "      <td>1</td>\n",
              "      <td>1</td>\n",
              "      <td>Semi-urban</td>\n",
              "      <td>0</td>\n",
              "      <td>NaN</td>\n",
              "      <td>2</td>\n",
              "    </tr>\n",
              "    <tr>\n",
              "      <th>23</th>\n",
              "      <td>Male</td>\n",
              "      <td>0</td>\n",
              "      <td>1</td>\n",
              "      <td>1</td>\n",
              "      <td>Married</td>\n",
              "      <td>1</td>\n",
              "      <td>1</td>\n",
              "      <td>Urban</td>\n",
              "      <td>1</td>\n",
              "      <td>NaN</td>\n",
              "      <td>3</td>\n",
              "    </tr>\n",
              "    <tr>\n",
              "      <th>24</th>\n",
              "      <td>Female</td>\n",
              "      <td>2</td>\n",
              "      <td>1</td>\n",
              "      <td>1</td>\n",
              "      <td>Divorced</td>\n",
              "      <td>1</td>\n",
              "      <td>1</td>\n",
              "      <td>Urban</td>\n",
              "      <td>0</td>\n",
              "      <td>NaN</td>\n",
              "      <td>2</td>\n",
              "    </tr>\n",
              "    <tr>\n",
              "      <th>25</th>\n",
              "      <td>Female</td>\n",
              "      <td>5</td>\n",
              "      <td>1</td>\n",
              "      <td>3</td>\n",
              "      <td>Single</td>\n",
              "      <td>0</td>\n",
              "      <td>1</td>\n",
              "      <td>Rural</td>\n",
              "      <td>1</td>\n",
              "      <td>NaN</td>\n",
              "      <td>2</td>\n",
              "    </tr>\n",
              "    <tr>\n",
              "      <th>26</th>\n",
              "      <td>Male</td>\n",
              "      <td>4</td>\n",
              "      <td>1</td>\n",
              "      <td>1</td>\n",
              "      <td>Divorced</td>\n",
              "      <td>3</td>\n",
              "      <td>1</td>\n",
              "      <td>Urban</td>\n",
              "      <td>1</td>\n",
              "      <td>NaN</td>\n",
              "      <td>2</td>\n",
              "    </tr>\n",
              "    <tr>\n",
              "      <th>27</th>\n",
              "      <td>Female</td>\n",
              "      <td>4</td>\n",
              "      <td>1</td>\n",
              "      <td>0</td>\n",
              "      <td>Single</td>\n",
              "      <td>3</td>\n",
              "      <td>0</td>\n",
              "      <td>Urban</td>\n",
              "      <td>1</td>\n",
              "      <td>NaN</td>\n",
              "      <td>3</td>\n",
              "    </tr>\n",
              "    <tr>\n",
              "      <th>28</th>\n",
              "      <td>Female</td>\n",
              "      <td>2</td>\n",
              "      <td>2</td>\n",
              "      <td>1</td>\n",
              "      <td>Married</td>\n",
              "      <td>2</td>\n",
              "      <td>1</td>\n",
              "      <td>Rural</td>\n",
              "      <td>0</td>\n",
              "      <td>NaN</td>\n",
              "      <td>3</td>\n",
              "    </tr>\n",
              "    <tr>\n",
              "      <th>29</th>\n",
              "      <td>Male</td>\n",
              "      <td>0</td>\n",
              "      <td>2</td>\n",
              "      <td>0</td>\n",
              "      <td>Divorced</td>\n",
              "      <td>1</td>\n",
              "      <td>1</td>\n",
              "      <td>Rural</td>\n",
              "      <td>0</td>\n",
              "      <td>NaN</td>\n",
              "      <td>3</td>\n",
              "    </tr>\n",
              "  </tbody>\n",
              "</table>\n",
              "</div>"
            ],
            "text/plain": [
              "    Gender  Income  Education  ...  Credit Risk Status  Risk Predicted\n",
              "0     Male       3          2  ...       0         NaN               3\n",
              "1     Male       2          1  ...       1         NaN               3\n",
              "2   Female       0          3  ...       0         NaN               4\n",
              "3   Female       1          3  ...       0         NaN               4\n",
              "4     Male       5          0  ...       1         NaN               2\n",
              "5     Male       3          0  ...       0         NaN               2\n",
              "6   Female       0          2  ...       1         NaN               3\n",
              "7     Male       1          2  ...       1         NaN               4\n",
              "8     Male       1          2  ...       1         NaN               4\n",
              "9     Male       1          3  ...       0         NaN               4\n",
              "10  Female       1          2  ...       1         NaN               4\n",
              "11  Female       0          3  ...       1         NaN               3\n",
              "12  Female       1          2  ...       0         NaN               3\n",
              "13  Female       5          1  ...       1         NaN               2\n",
              "14    Male       0          1  ...       1         NaN               4\n",
              "15  Female       0          3  ...       0         NaN               4\n",
              "16    Male       1          0  ...       1         NaN               3\n",
              "17  Female       1          1  ...       1         NaN               3\n",
              "18  Female       0          3  ...       0         NaN               4\n",
              "19  Female       1          2  ...       1         NaN               4\n",
              "20    Male       1          1  ...       0         NaN               3\n",
              "21    Male       2          1  ...       0         NaN               3\n",
              "22  Female       3          1  ...       0         NaN               2\n",
              "23    Male       0          1  ...       1         NaN               3\n",
              "24  Female       2          1  ...       0         NaN               2\n",
              "25  Female       5          1  ...       1         NaN               2\n",
              "26    Male       4          1  ...       1         NaN               2\n",
              "27  Female       4          1  ...       1         NaN               3\n",
              "28  Female       2          2  ...       0         NaN               3\n",
              "29    Male       0          2  ...       0         NaN               3\n",
              "\n",
              "[30 rows x 11 columns]"
            ]
          },
          "metadata": {
            "tags": []
          },
          "execution_count": 592
        }
      ]
    },
    {
      "cell_type": "code",
      "metadata": {
        "colab": {
          "base_uri": "https://localhost:8080/",
          "height": 417
        },
        "id": "KeaQ3LFFy729",
        "outputId": "e2b8e87b-f427-44c3-ecec-9a60e513f5f5"
      },
      "source": [
        "test_sub_df.drop(['Risk Status'], axis=1)"
      ],
      "execution_count": null,
      "outputs": [
        {
          "output_type": "execute_result",
          "data": {
            "text/html": [
              "<div>\n",
              "<style scoped>\n",
              "    .dataframe tbody tr th:only-of-type {\n",
              "        vertical-align: middle;\n",
              "    }\n",
              "\n",
              "    .dataframe tbody tr th {\n",
              "        vertical-align: top;\n",
              "    }\n",
              "\n",
              "    .dataframe thead th {\n",
              "        text-align: right;\n",
              "    }\n",
              "</style>\n",
              "<table border=\"1\" class=\"dataframe\">\n",
              "  <thead>\n",
              "    <tr style=\"text-align: right;\">\n",
              "      <th></th>\n",
              "      <th>Gender</th>\n",
              "      <th>Income</th>\n",
              "      <th>Education</th>\n",
              "      <th>Dependents</th>\n",
              "      <th>Marital Status</th>\n",
              "      <th>Employment Status</th>\n",
              "      <th>Mortgage</th>\n",
              "      <th>Resident</th>\n",
              "      <th>Credit</th>\n",
              "    </tr>\n",
              "  </thead>\n",
              "  <tbody>\n",
              "    <tr>\n",
              "      <th>0</th>\n",
              "      <td>Male</td>\n",
              "      <td>51000</td>\n",
              "      <td>Bachelor</td>\n",
              "      <td>1</td>\n",
              "      <td>Married</td>\n",
              "      <td>Others</td>\n",
              "      <td>Yes</td>\n",
              "      <td>Semi-urban</td>\n",
              "      <td>No</td>\n",
              "    </tr>\n",
              "    <tr>\n",
              "      <th>1</th>\n",
              "      <td>Male</td>\n",
              "      <td>48000</td>\n",
              "      <td>Master</td>\n",
              "      <td>2</td>\n",
              "      <td>Widowed</td>\n",
              "      <td>Employed</td>\n",
              "      <td>Yes</td>\n",
              "      <td>Urban</td>\n",
              "      <td>Yes</td>\n",
              "    </tr>\n",
              "    <tr>\n",
              "      <th>2</th>\n",
              "      <td>Female</td>\n",
              "      <td>26000</td>\n",
              "      <td>Others</td>\n",
              "      <td>2</td>\n",
              "      <td>Married</td>\n",
              "      <td>Part-time</td>\n",
              "      <td>Yes</td>\n",
              "      <td>Urban</td>\n",
              "      <td>No</td>\n",
              "    </tr>\n",
              "    <tr>\n",
              "      <th>3</th>\n",
              "      <td>Female</td>\n",
              "      <td>32000</td>\n",
              "      <td>Others</td>\n",
              "      <td>1</td>\n",
              "      <td>Separated</td>\n",
              "      <td>Others</td>\n",
              "      <td>Yes</td>\n",
              "      <td>Urban</td>\n",
              "      <td>No</td>\n",
              "    </tr>\n",
              "    <tr>\n",
              "      <th>4</th>\n",
              "      <td>Male</td>\n",
              "      <td>110000</td>\n",
              "      <td>Doctorate</td>\n",
              "      <td>1</td>\n",
              "      <td>Single</td>\n",
              "      <td>Employed</td>\n",
              "      <td>No</td>\n",
              "      <td>Semi-urban</td>\n",
              "      <td>Yes</td>\n",
              "    </tr>\n",
              "    <tr>\n",
              "      <th>...</th>\n",
              "      <td>...</td>\n",
              "      <td>...</td>\n",
              "      <td>...</td>\n",
              "      <td>...</td>\n",
              "      <td>...</td>\n",
              "      <td>...</td>\n",
              "      <td>...</td>\n",
              "      <td>...</td>\n",
              "      <td>...</td>\n",
              "    </tr>\n",
              "    <tr>\n",
              "      <th>345</th>\n",
              "      <td>Male</td>\n",
              "      <td>66000</td>\n",
              "      <td>Doctorate</td>\n",
              "      <td>1</td>\n",
              "      <td>Divorced</td>\n",
              "      <td>Self-employed</td>\n",
              "      <td>Yes</td>\n",
              "      <td>Semi-urban</td>\n",
              "      <td>Yes</td>\n",
              "    </tr>\n",
              "    <tr>\n",
              "      <th>346</th>\n",
              "      <td>Female</td>\n",
              "      <td>52000</td>\n",
              "      <td>Bachelor</td>\n",
              "      <td>0</td>\n",
              "      <td>Single</td>\n",
              "      <td>Employed</td>\n",
              "      <td>Yes</td>\n",
              "      <td>Urban</td>\n",
              "      <td>Yes</td>\n",
              "    </tr>\n",
              "    <tr>\n",
              "      <th>347</th>\n",
              "      <td>Female</td>\n",
              "      <td>23000</td>\n",
              "      <td>Others</td>\n",
              "      <td>0</td>\n",
              "      <td>Single</td>\n",
              "      <td>Others</td>\n",
              "      <td>Yes</td>\n",
              "      <td>Semi-urban</td>\n",
              "      <td>Yes</td>\n",
              "    </tr>\n",
              "    <tr>\n",
              "      <th>348</th>\n",
              "      <td>Female</td>\n",
              "      <td>16000</td>\n",
              "      <td>Master</td>\n",
              "      <td>3</td>\n",
              "      <td>Married</td>\n",
              "      <td>Others</td>\n",
              "      <td>Yes</td>\n",
              "      <td>Rural</td>\n",
              "      <td>Yes</td>\n",
              "    </tr>\n",
              "    <tr>\n",
              "      <th>349</th>\n",
              "      <td>Male</td>\n",
              "      <td>34000</td>\n",
              "      <td>Master</td>\n",
              "      <td>0</td>\n",
              "      <td>Separated</td>\n",
              "      <td>Self-employed</td>\n",
              "      <td>Yes</td>\n",
              "      <td>Semi-urban</td>\n",
              "      <td>No</td>\n",
              "    </tr>\n",
              "  </tbody>\n",
              "</table>\n",
              "<p>350 rows × 9 columns</p>\n",
              "</div>"
            ],
            "text/plain": [
              "     Gender  Income  Education  ...  Mortgage    Resident Credit\n",
              "0      Male   51000   Bachelor  ...       Yes  Semi-urban     No\n",
              "1      Male   48000     Master  ...       Yes       Urban    Yes\n",
              "2    Female   26000     Others  ...       Yes       Urban     No\n",
              "3    Female   32000     Others  ...       Yes       Urban     No\n",
              "4      Male  110000  Doctorate  ...        No  Semi-urban    Yes\n",
              "..      ...     ...        ...  ...       ...         ...    ...\n",
              "345    Male   66000  Doctorate  ...       Yes  Semi-urban    Yes\n",
              "346  Female   52000   Bachelor  ...       Yes       Urban    Yes\n",
              "347  Female   23000     Others  ...       Yes  Semi-urban    Yes\n",
              "348  Female   16000     Master  ...       Yes       Rural    Yes\n",
              "349    Male   34000     Master  ...       Yes  Semi-urban     No\n",
              "\n",
              "[350 rows x 9 columns]"
            ]
          },
          "metadata": {
            "tags": []
          },
          "execution_count": 593
        }
      ]
    },
    {
      "cell_type": "code",
      "metadata": {
        "id": "qxjxYctFzSAd"
      },
      "source": [
        "test_sub_df[\"Risk Status\"] = Y_prediction\n",
        "test_sub_df.to_csv(\"test_sub.csv\", index=False)"
      ],
      "execution_count": null,
      "outputs": []
    },
    {
      "cell_type": "code",
      "metadata": {
        "colab": {
          "base_uri": "https://localhost:8080/",
          "height": 357
        },
        "id": "DUKuEKblzjhu",
        "outputId": "e5f59a36-8901-4905-bb6c-08229e02afa5"
      },
      "source": [
        "test_sub_df.head(10)"
      ],
      "execution_count": null,
      "outputs": [
        {
          "output_type": "execute_result",
          "data": {
            "text/html": [
              "<div>\n",
              "<style scoped>\n",
              "    .dataframe tbody tr th:only-of-type {\n",
              "        vertical-align: middle;\n",
              "    }\n",
              "\n",
              "    .dataframe tbody tr th {\n",
              "        vertical-align: top;\n",
              "    }\n",
              "\n",
              "    .dataframe thead th {\n",
              "        text-align: right;\n",
              "    }\n",
              "</style>\n",
              "<table border=\"1\" class=\"dataframe\">\n",
              "  <thead>\n",
              "    <tr style=\"text-align: right;\">\n",
              "      <th></th>\n",
              "      <th>Gender</th>\n",
              "      <th>Income</th>\n",
              "      <th>Education</th>\n",
              "      <th>Dependents</th>\n",
              "      <th>Marital Status</th>\n",
              "      <th>Employment Status</th>\n",
              "      <th>Mortgage</th>\n",
              "      <th>Resident</th>\n",
              "      <th>Credit</th>\n",
              "      <th>Risk Status</th>\n",
              "    </tr>\n",
              "  </thead>\n",
              "  <tbody>\n",
              "    <tr>\n",
              "      <th>0</th>\n",
              "      <td>Male</td>\n",
              "      <td>51000</td>\n",
              "      <td>Bachelor</td>\n",
              "      <td>1</td>\n",
              "      <td>Married</td>\n",
              "      <td>Others</td>\n",
              "      <td>Yes</td>\n",
              "      <td>Semi-urban</td>\n",
              "      <td>No</td>\n",
              "      <td>3</td>\n",
              "    </tr>\n",
              "    <tr>\n",
              "      <th>1</th>\n",
              "      <td>Male</td>\n",
              "      <td>48000</td>\n",
              "      <td>Master</td>\n",
              "      <td>2</td>\n",
              "      <td>Widowed</td>\n",
              "      <td>Employed</td>\n",
              "      <td>Yes</td>\n",
              "      <td>Urban</td>\n",
              "      <td>Yes</td>\n",
              "      <td>3</td>\n",
              "    </tr>\n",
              "    <tr>\n",
              "      <th>2</th>\n",
              "      <td>Female</td>\n",
              "      <td>26000</td>\n",
              "      <td>Others</td>\n",
              "      <td>2</td>\n",
              "      <td>Married</td>\n",
              "      <td>Part-time</td>\n",
              "      <td>Yes</td>\n",
              "      <td>Urban</td>\n",
              "      <td>No</td>\n",
              "      <td>4</td>\n",
              "    </tr>\n",
              "    <tr>\n",
              "      <th>3</th>\n",
              "      <td>Female</td>\n",
              "      <td>32000</td>\n",
              "      <td>Others</td>\n",
              "      <td>1</td>\n",
              "      <td>Separated</td>\n",
              "      <td>Others</td>\n",
              "      <td>Yes</td>\n",
              "      <td>Urban</td>\n",
              "      <td>No</td>\n",
              "      <td>4</td>\n",
              "    </tr>\n",
              "    <tr>\n",
              "      <th>4</th>\n",
              "      <td>Male</td>\n",
              "      <td>110000</td>\n",
              "      <td>Doctorate</td>\n",
              "      <td>1</td>\n",
              "      <td>Single</td>\n",
              "      <td>Employed</td>\n",
              "      <td>No</td>\n",
              "      <td>Semi-urban</td>\n",
              "      <td>Yes</td>\n",
              "      <td>2</td>\n",
              "    </tr>\n",
              "    <tr>\n",
              "      <th>5</th>\n",
              "      <td>Male</td>\n",
              "      <td>53000</td>\n",
              "      <td>Doctorate</td>\n",
              "      <td>1</td>\n",
              "      <td>Widowed</td>\n",
              "      <td>Employed</td>\n",
              "      <td>Yes</td>\n",
              "      <td>Semi-urban</td>\n",
              "      <td>No</td>\n",
              "      <td>2</td>\n",
              "    </tr>\n",
              "    <tr>\n",
              "      <th>6</th>\n",
              "      <td>Female</td>\n",
              "      <td>19000</td>\n",
              "      <td>Bachelor</td>\n",
              "      <td>0</td>\n",
              "      <td>Widowed</td>\n",
              "      <td>Self-employed</td>\n",
              "      <td>Yes</td>\n",
              "      <td>Rural</td>\n",
              "      <td>Yes</td>\n",
              "      <td>3</td>\n",
              "    </tr>\n",
              "    <tr>\n",
              "      <th>7</th>\n",
              "      <td>Male</td>\n",
              "      <td>32000</td>\n",
              "      <td>Bachelor</td>\n",
              "      <td>1</td>\n",
              "      <td>Widowed</td>\n",
              "      <td>Retired</td>\n",
              "      <td>No</td>\n",
              "      <td>Urban</td>\n",
              "      <td>Yes</td>\n",
              "      <td>4</td>\n",
              "    </tr>\n",
              "    <tr>\n",
              "      <th>8</th>\n",
              "      <td>Male</td>\n",
              "      <td>34000</td>\n",
              "      <td>Bachelor</td>\n",
              "      <td>1</td>\n",
              "      <td>Single</td>\n",
              "      <td>Others</td>\n",
              "      <td>Yes</td>\n",
              "      <td>Semi-urban</td>\n",
              "      <td>Yes</td>\n",
              "      <td>4</td>\n",
              "    </tr>\n",
              "    <tr>\n",
              "      <th>9</th>\n",
              "      <td>Male</td>\n",
              "      <td>31000</td>\n",
              "      <td>Others</td>\n",
              "      <td>1</td>\n",
              "      <td>Separated</td>\n",
              "      <td>Unemployed</td>\n",
              "      <td>No</td>\n",
              "      <td>Urban</td>\n",
              "      <td>No</td>\n",
              "      <td>4</td>\n",
              "    </tr>\n",
              "  </tbody>\n",
              "</table>\n",
              "</div>"
            ],
            "text/plain": [
              "   Gender  Income  Education  ...    Resident Credit Risk Status\n",
              "0    Male   51000   Bachelor  ...  Semi-urban     No           3\n",
              "1    Male   48000     Master  ...       Urban    Yes           3\n",
              "2  Female   26000     Others  ...       Urban     No           4\n",
              "3  Female   32000     Others  ...       Urban     No           4\n",
              "4    Male  110000  Doctorate  ...  Semi-urban    Yes           2\n",
              "5    Male   53000  Doctorate  ...  Semi-urban     No           2\n",
              "6  Female   19000   Bachelor  ...       Rural    Yes           3\n",
              "7    Male   32000   Bachelor  ...       Urban    Yes           4\n",
              "8    Male   34000   Bachelor  ...  Semi-urban    Yes           4\n",
              "9    Male   31000     Others  ...       Urban     No           4\n",
              "\n",
              "[10 rows x 10 columns]"
            ]
          },
          "metadata": {
            "tags": []
          },
          "execution_count": 595
        }
      ]
    }
  ]
}